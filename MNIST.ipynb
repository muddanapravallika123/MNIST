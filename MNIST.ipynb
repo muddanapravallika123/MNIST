{
 "cells": [
  {
   "cell_type": "markdown",
   "metadata": {
    "id": "3v38Co--kal-"
   },
   "source": [
    "### Deep-Learning Lab Session\n",
    "In this lab we design a neural network that classifies numbers (0 to 9). The  dataset we are going to use is from MNIST. We observe the performnce by changing \n",
    "1. activation functions\n",
    "2. optimization algorithm\n",
    "3. Number of layers."
   ]
  },
  {
   "cell_type": "code",
   "execution_count": 1,
   "metadata": {
    "id": "NTiRNDhSkamI"
   },
   "outputs": [],
   "source": [
    "import warnings\n",
    "warnings.filterwarnings('ignore')"
   ]
  },
  {
   "cell_type": "code",
   "execution_count": 2,
   "metadata": {},
   "outputs": [
    {
     "name": "stdout",
     "output_type": "stream",
     "text": [
      "Requirement already satisfied: keras in c:\\users\\mudda\\onedrive\\documents\\mrp\\lib\\site-packages (2.14.0)\n",
      "Note: you may need to restart the kernel to use updated packages.\n"
     ]
    },
    {
     "name": "stderr",
     "output_type": "stream",
     "text": [
      "WARNING: Ignoring invalid distribution -oogle-auth (c:\\users\\mudda\\onedrive\\documents\\mrp\\lib\\site-packages)\n",
      "WARNING: Ignoring invalid distribution -oogle-auth (c:\\users\\mudda\\onedrive\\documents\\mrp\\lib\\site-packages)\n",
      "WARNING: Ignoring invalid distribution -oogle-auth (c:\\users\\mudda\\onedrive\\documents\\mrp\\lib\\site-packages)\n",
      "WARNING: Ignoring invalid distribution -oogle-auth (c:\\users\\mudda\\onedrive\\documents\\mrp\\lib\\site-packages)\n",
      "WARNING: Ignoring invalid distribution -oogle-auth (c:\\users\\mudda\\onedrive\\documents\\mrp\\lib\\site-packages)\n",
      "WARNING: Ignoring invalid distribution -oogle-auth (c:\\users\\mudda\\onedrive\\documents\\mrp\\lib\\site-packages)\n"
     ]
    }
   ],
   "source": [
    "pip install keras"
   ]
  },
  {
   "cell_type": "code",
   "execution_count": 3,
   "metadata": {},
   "outputs": [
    {
     "name": "stdout",
     "output_type": "stream",
     "text": [
      "Requirement already satisfied: tensorflow in c:\\users\\mudda\\onedrive\\documents\\mrp\\lib\\site-packages (2.14.0)\n",
      "Requirement already satisfied: tensorflow-intel==2.14.0 in c:\\users\\mudda\\onedrive\\documents\\mrp\\lib\\site-packages (from tensorflow) (2.14.0)\n",
      "Requirement already satisfied: typing-extensions>=3.6.6 in c:\\users\\mudda\\onedrive\\documents\\mrp\\lib\\site-packages (from tensorflow-intel==2.14.0->tensorflow) (4.1.1)\n",
      "Requirement already satisfied: setuptools in c:\\users\\mudda\\onedrive\\documents\\mrp\\lib\\site-packages (from tensorflow-intel==2.14.0->tensorflow) (61.2.0)\n",
      "Requirement already satisfied: numpy>=1.23.5 in c:\\users\\mudda\\onedrive\\documents\\mrp\\lib\\site-packages (from tensorflow-intel==2.14.0->tensorflow) (1.26.0)\n",
      "Requirement already satisfied: keras<2.15,>=2.14.0 in c:\\users\\mudda\\onedrive\\documents\\mrp\\lib\\site-packages (from tensorflow-intel==2.14.0->tensorflow) (2.14.0)\n",
      "Requirement already satisfied: absl-py>=1.0.0 in c:\\users\\mudda\\onedrive\\documents\\mrp\\lib\\site-packages (from tensorflow-intel==2.14.0->tensorflow) (2.0.0)\n",
      "Requirement already satisfied: libclang>=13.0.0 in c:\\users\\mudda\\onedrive\\documents\\mrp\\lib\\site-packages (from tensorflow-intel==2.14.0->tensorflow) (16.0.6)\n",
      "Requirement already satisfied: packaging in c:\\users\\mudda\\onedrive\\documents\\mrp\\lib\\site-packages (from tensorflow-intel==2.14.0->tensorflow) (21.3)\n",
      "Requirement already satisfied: grpcio<2.0,>=1.24.3 in c:\\users\\mudda\\onedrive\\documents\\mrp\\lib\\site-packages (from tensorflow-intel==2.14.0->tensorflow) (1.59.0)\n",
      "Requirement already satisfied: ml-dtypes==0.2.0 in c:\\users\\mudda\\onedrive\\documents\\mrp\\lib\\site-packages (from tensorflow-intel==2.14.0->tensorflow) (0.2.0)\n",
      "Requirement already satisfied: google-pasta>=0.1.1 in c:\\users\\mudda\\onedrive\\documents\\mrp\\lib\\site-packages (from tensorflow-intel==2.14.0->tensorflow) (0.2.0)\n",
      "Requirement already satisfied: astunparse>=1.6.0 in c:\\users\\mudda\\onedrive\\documents\\mrp\\lib\\site-packages (from tensorflow-intel==2.14.0->tensorflow) (1.6.3)\n",
      "Requirement already satisfied: flatbuffers>=23.5.26 in c:\\users\\mudda\\onedrive\\documents\\mrp\\lib\\site-packages (from tensorflow-intel==2.14.0->tensorflow) (23.5.26)\n",
      "Requirement already satisfied: tensorboard<2.15,>=2.14 in c:\\users\\mudda\\onedrive\\documents\\mrp\\lib\\site-packages (from tensorflow-intel==2.14.0->tensorflow) (2.14.1)\n",
      "Requirement already satisfied: tensorflow-estimator<2.15,>=2.14.0 in c:\\users\\mudda\\onedrive\\documents\\mrp\\lib\\site-packages (from tensorflow-intel==2.14.0->tensorflow) (2.14.0)\n",
      "Requirement already satisfied: termcolor>=1.1.0 in c:\\users\\mudda\\onedrive\\documents\\mrp\\lib\\site-packages (from tensorflow-intel==2.14.0->tensorflow) (2.3.0)\n",
      "Requirement already satisfied: opt-einsum>=2.3.2 in c:\\users\\mudda\\onedrive\\documents\\mrp\\lib\\site-packages (from tensorflow-intel==2.14.0->tensorflow) (3.3.0)\n",
      "Requirement already satisfied: gast!=0.5.0,!=0.5.1,!=0.5.2,>=0.2.1 in c:\\users\\mudda\\onedrive\\documents\\mrp\\lib\\site-packages (from tensorflow-intel==2.14.0->tensorflow) (0.5.4)\n",
      "Requirement already satisfied: h5py>=2.9.0 in c:\\users\\mudda\\onedrive\\documents\\mrp\\lib\\site-packages (from tensorflow-intel==2.14.0->tensorflow) (3.6.0)\n",
      "Requirement already satisfied: protobuf!=4.21.0,!=4.21.1,!=4.21.2,!=4.21.3,!=4.21.4,!=4.21.5,<5.0.0dev,>=3.20.3 in c:\\users\\mudda\\onedrive\\documents\\mrp\\lib\\site-packages (from tensorflow-intel==2.14.0->tensorflow) (4.24.3)\n",
      "Requirement already satisfied: wrapt<1.15,>=1.11.0 in c:\\users\\mudda\\onedrive\\documents\\mrp\\lib\\site-packages (from tensorflow-intel==2.14.0->tensorflow) (1.12.1)\n",
      "Note: you may need to restart the kernel to use updated packages.Requirement already satisfied: six>=1.12.0 in c:\\users\\mudda\\onedrive\\documents\\mrp\\lib\\site-packages (from tensorflow-intel==2.14.0->tensorflow) (1.16.0)\n"
     ]
    },
    {
     "name": "stderr",
     "output_type": "stream",
     "text": [
      "WARNING: Ignoring invalid distribution -oogle-auth (c:\\users\\mudda\\onedrive\\documents\\mrp\\lib\\site-packages)\n",
      "WARNING: Ignoring invalid distribution -oogle-auth (c:\\users\\mudda\\onedrive\\documents\\mrp\\lib\\site-packages)\n",
      "WARNING: Ignoring invalid distribution -oogle-auth (c:\\users\\mudda\\onedrive\\documents\\mrp\\lib\\site-packages)\n",
      "WARNING: Ignoring invalid distribution -oogle-auth (c:\\users\\mudda\\onedrive\\documents\\mrp\\lib\\site-packages)\n",
      "WARNING: Ignoring invalid distribution -oogle-auth (c:\\users\\mudda\\onedrive\\documents\\mrp\\lib\\site-packages)\n",
      "WARNING: Ignoring invalid distribution -oogle-auth (c:\\users\\mudda\\onedrive\\documents\\mrp\\lib\\site-packages)\n"
     ]
    },
    {
     "name": "stdout",
     "output_type": "stream",
     "text": [
      "\n",
      "Requirement already satisfied: tensorflow-io-gcs-filesystem>=0.23.1 in c:\\users\\mudda\\onedrive\\documents\\mrp\\lib\\site-packages (from tensorflow-intel==2.14.0->tensorflow) (0.31.0)\n",
      "Requirement already satisfied: wheel<1.0,>=0.23.0 in c:\\users\\mudda\\onedrive\\documents\\mrp\\lib\\site-packages (from astunparse>=1.6.0->tensorflow-intel==2.14.0->tensorflow) (0.37.1)\n",
      "Requirement already satisfied: werkzeug>=1.0.1 in c:\\users\\mudda\\onedrive\\documents\\mrp\\lib\\site-packages (from tensorboard<2.15,>=2.14->tensorflow-intel==2.14.0->tensorflow) (2.0.3)\n",
      "Requirement already satisfied: google-auth<3,>=1.6.3 in c:\\users\\mudda\\onedrive\\documents\\mrp\\lib\\site-packages (from tensorboard<2.15,>=2.14->tensorflow-intel==2.14.0->tensorflow) (2.23.2)\n",
      "Requirement already satisfied: requests<3,>=2.21.0 in c:\\users\\mudda\\onedrive\\documents\\mrp\\lib\\site-packages (from tensorboard<2.15,>=2.14->tensorflow-intel==2.14.0->tensorflow) (2.27.1)\n",
      "Requirement already satisfied: tensorboard-data-server<0.8.0,>=0.7.0 in c:\\users\\mudda\\onedrive\\documents\\mrp\\lib\\site-packages (from tensorboard<2.15,>=2.14->tensorflow-intel==2.14.0->tensorflow) (0.7.1)\n",
      "Requirement already satisfied: google-auth-oauthlib<1.1,>=0.5 in c:\\users\\mudda\\onedrive\\documents\\mrp\\lib\\site-packages (from tensorboard<2.15,>=2.14->tensorflow-intel==2.14.0->tensorflow) (1.0.0)\n",
      "Requirement already satisfied: markdown>=2.6.8 in c:\\users\\mudda\\onedrive\\documents\\mrp\\lib\\site-packages (from tensorboard<2.15,>=2.14->tensorflow-intel==2.14.0->tensorflow) (3.3.4)\n",
      "Requirement already satisfied: cachetools<6.0,>=2.0.0 in c:\\users\\mudda\\onedrive\\documents\\mrp\\lib\\site-packages (from google-auth<3,>=1.6.3->tensorboard<2.15,>=2.14->tensorflow-intel==2.14.0->tensorflow) (4.2.2)\n",
      "Requirement already satisfied: pyasn1-modules>=0.2.1 in c:\\users\\mudda\\onedrive\\documents\\mrp\\lib\\site-packages (from google-auth<3,>=1.6.3->tensorboard<2.15,>=2.14->tensorflow-intel==2.14.0->tensorflow) (0.2.8)\n",
      "Requirement already satisfied: rsa<5,>=3.1.4 in c:\\users\\mudda\\onedrive\\documents\\mrp\\lib\\site-packages (from google-auth<3,>=1.6.3->tensorboard<2.15,>=2.14->tensorflow-intel==2.14.0->tensorflow) (4.7.2)\n",
      "Requirement already satisfied: requests-oauthlib>=0.7.0 in c:\\users\\mudda\\onedrive\\documents\\mrp\\lib\\site-packages (from google-auth-oauthlib<1.1,>=0.5->tensorboard<2.15,>=2.14->tensorflow-intel==2.14.0->tensorflow) (1.3.1)\n",
      "Requirement already satisfied: pyasn1<0.5.0,>=0.4.6 in c:\\users\\mudda\\onedrive\\documents\\mrp\\lib\\site-packages (from pyasn1-modules>=0.2.1->google-auth<3,>=1.6.3->tensorboard<2.15,>=2.14->tensorflow-intel==2.14.0->tensorflow) (0.4.8)\n",
      "Requirement already satisfied: certifi>=2017.4.17 in c:\\users\\mudda\\onedrive\\documents\\mrp\\lib\\site-packages (from requests<3,>=2.21.0->tensorboard<2.15,>=2.14->tensorflow-intel==2.14.0->tensorflow) (2021.10.8)\n",
      "Requirement already satisfied: idna<4,>=2.5 in c:\\users\\mudda\\onedrive\\documents\\mrp\\lib\\site-packages (from requests<3,>=2.21.0->tensorboard<2.15,>=2.14->tensorflow-intel==2.14.0->tensorflow) (3.3)\n",
      "Requirement already satisfied: charset-normalizer~=2.0.0 in c:\\users\\mudda\\onedrive\\documents\\mrp\\lib\\site-packages (from requests<3,>=2.21.0->tensorboard<2.15,>=2.14->tensorflow-intel==2.14.0->tensorflow) (2.0.4)\n",
      "Requirement already satisfied: urllib3<1.27,>=1.21.1 in c:\\users\\mudda\\onedrive\\documents\\mrp\\lib\\site-packages (from requests<3,>=2.21.0->tensorboard<2.15,>=2.14->tensorflow-intel==2.14.0->tensorflow) (1.26.9)\n",
      "Requirement already satisfied: oauthlib>=3.0.0 in c:\\users\\mudda\\onedrive\\documents\\mrp\\lib\\site-packages (from requests-oauthlib>=0.7.0->google-auth-oauthlib<1.1,>=0.5->tensorboard<2.15,>=2.14->tensorflow-intel==2.14.0->tensorflow) (3.2.2)\n",
      "Requirement already satisfied: pyparsing!=3.0.5,>=2.0.2 in c:\\users\\mudda\\onedrive\\documents\\mrp\\lib\\site-packages (from packaging->tensorflow-intel==2.14.0->tensorflow) (3.0.4)\n"
     ]
    }
   ],
   "source": [
    "pip install tensorflow"
   ]
  },
  {
   "cell_type": "code",
   "execution_count": 4,
   "metadata": {
    "id": "hNv40rOHkamL"
   },
   "outputs": [],
   "source": [
    "import numpy as np\n",
    "import keras\n",
    "from keras.datasets import mnist\n",
    "#from keras.utils import np_utils\n",
    "from keras.models import Sequential\n",
    "#from keras.layers.core import Dense, Dropout, Activation\n",
    "from keras.layers import BatchNormalization\n",
    "from keras.regularizers import l2\n",
    "import matplotlib.pyplot as plt\n",
    "import cv2"
   ]
  },
  {
   "cell_type": "markdown",
   "metadata": {
    "id": "wcxx23UJkamN"
   },
   "source": [
    "## Loading MNIST Data from Keras"
   ]
  },
  {
   "cell_type": "markdown",
   "metadata": {
    "id": "k2ufVmGWkamP"
   },
   "source": [
    "MNIST is a database. The acronym stands for “Modified National Institute of Standards and Technology.” The MNIST \n",
    "\n",
    "database contains handwritten digits (0 through 9), and can provide a baseline for testing image processing systems. \n"
   ]
  },
  {
   "cell_type": "code",
   "execution_count": 5,
   "metadata": {
    "colab": {
     "base_uri": "https://localhost:8080/"
    },
    "id": "wReIA7zfkamQ",
    "outputId": "7b68d0ad-a84b-4767-d009-dbea581deb0c"
   },
   "outputs": [],
   "source": [
    "(x_train, y_train), (x_test, y_test) = mnist.load_data()"
   ]
  },
  {
   "cell_type": "code",
   "execution_count": 6,
   "metadata": {
    "colab": {
     "base_uri": "https://localhost:8080/",
     "height": 268
    },
    "id": "LsU9sbQBkamR",
    "outputId": "4965cd8c-24f0-4cb1-9d67-92f1f39ed98a"
   },
   "outputs": [
    {
     "data": {
      "image/png": "[encoded data removed]",
      "text/plain": [
       "<Figure size 432x288 with 9 Axes>"
      ]
     },
     "metadata": {
      "needs_background": "light"
     },
     "output_type": "display_data"
    }
   ],
   "source": [
    "for i in range(9):\n",
    "    plt.subplot(330 + 1 + i)\n",
    "    plt.imshow(x_train[i], cmap=plt.get_cmap('gray'))\n",
    "plt.show()"
   ]
  },
  {
   "cell_type": "code",
   "execution_count": 7,
   "metadata": {
    "id": "--JThqvOBgs3"
   },
   "outputs": [],
   "source": [
    "x_train_short = x_train[:3000]\n",
    "x_test_short = x_test[:500]"
   ]
  },
  {
   "cell_type": "code",
   "execution_count": 8,
   "metadata": {
    "colab": {
     "base_uri": "https://localhost:8080/"
    },
    "id": "uOriveAtkamT",
    "outputId": "dbc67d0d-ca4d-4e22-c185-25a705c4b2ed"
   },
   "outputs": [
    {
     "name": "stdout",
     "output_type": "stream",
     "text": [
      "(3000, 28, 28)\n",
      "(500, 28, 28)\n"
     ]
    }
   ],
   "source": [
    "print(x_train_short.shape)\n",
    "print(x_test_short.shape)"
   ]
  },
  {
   "cell_type": "markdown",
   "metadata": {
    "id": "2lCDpRsTkamV"
   },
   "source": [
    "## Normalizing"
   ]
  },
  {
   "cell_type": "code",
   "execution_count": 9,
   "metadata": {
    "id": "lFR6QtMDkamW"
   },
   "outputs": [],
   "source": [
    "x_train = x_train_short.astype('float32')/255.\n",
    "x_test = x_test_short.astype('float32')/255."
   ]
  },
  {
   "cell_type": "code",
   "execution_count": 10,
   "metadata": {
    "colab": {
     "base_uri": "https://localhost:8080/"
    },
    "id": "nkMaY0NSkamX",
    "outputId": "d06b8777-b642-4e6b-c25f-35373c573b93"
   },
   "outputs": [
    {
     "name": "stdout",
     "output_type": "stream",
     "text": [
      "(3000, 28, 28)\n",
      "(500, 28, 28)\n"
     ]
    }
   ],
   "source": [
    "print (x_train.shape)\n",
    "print (x_test.shape)"
   ]
  },
  {
   "cell_type": "code",
   "execution_count": 11,
   "metadata": {
    "colab": {
     "base_uri": "https://localhost:8080/"
    },
    "id": "yKcHCwtakamY",
    "outputId": "39434965-c7e9-469f-9e48-137e64824bc8"
   },
   "outputs": [
    {
     "name": "stdout",
     "output_type": "stream",
     "text": [
      "3000\n"
     ]
    }
   ],
   "source": [
    "print(x_train.shape[0])"
   ]
  },
  {
   "cell_type": "code",
   "execution_count": 12,
   "metadata": {
    "colab": {
     "base_uri": "https://localhost:8080/"
    },
    "id": "AHqxecGzkamZ",
    "outputId": "8397001a-f8e3-4dee-9a3d-da89f288704c"
   },
   "outputs": [
    {
     "name": "stdout",
     "output_type": "stream",
     "text": [
      "(28, 28)\n"
     ]
    }
   ],
   "source": [
    "print((x_train.shape[1:]))"
   ]
  },
  {
   "cell_type": "code",
   "execution_count": 13,
   "metadata": {
    "colab": {
     "base_uri": "https://localhost:8080/"
    },
    "id": "_0r2umdzkama",
    "outputId": "03a89d9d-0fed-4ea8-80ae-88f12bf9242b"
   },
   "outputs": [
    {
     "name": "stdout",
     "output_type": "stream",
     "text": [
      "784\n"
     ]
    }
   ],
   "source": [
    "print(np.prod(x_train.shape[1:]))"
   ]
  },
  {
   "cell_type": "code",
   "execution_count": 14,
   "metadata": {
    "colab": {
     "base_uri": "https://localhost:8080/"
    },
    "id": "0CnU_qq6kamb",
    "outputId": "327e6d71-3068-4751-f7c0-4365ce57a3b9"
   },
   "outputs": [
    {
     "name": "stdout",
     "output_type": "stream",
     "text": [
      "(3000, 784)\n",
      "(500, 784)\n"
     ]
    }
   ],
   "source": [
    "x_train = x_train.reshape(x_train.shape[0], np.prod(x_train.shape[1:]))\n",
    "x_test = x_test.reshape(x_test.shape[0], np.prod(x_test.shape[1:]))\n",
    "\n",
    "print (x_train.shape)\n",
    "print (x_test.shape)"
   ]
  },
  {
   "cell_type": "code",
   "execution_count": 15,
   "metadata": {
    "id": "uGPCejEXCGiu"
   },
   "outputs": [],
   "source": [
    "y_train = y_train[:3000]\n",
    "y_test = y_test[:500]"
   ]
  },
  {
   "cell_type": "code",
   "execution_count": 16,
   "metadata": {
    "colab": {
     "base_uri": "https://localhost:8080/"
    },
    "id": "s0bNAuDfkamc",
    "outputId": "da7cbf85-ea3e-4776-85dd-40d5e303d6d5",
    "scrolled": true
   },
   "outputs": [
    {
     "name": "stdout",
     "output_type": "stream",
     "text": [
      "[5 0 4 ... 9 1 5]\n",
      "(3000,)\n"
     ]
    }
   ],
   "source": [
    "print(y_train)\n",
    "print(y_train.shape)"
   ]
  },
  {
   "cell_type": "markdown",
   "metadata": {
    "id": "ayjhXX4Ukamd"
   },
   "source": [
    "## One hot encoding the Target variable"
   ]
  },
  {
   "cell_type": "code",
   "execution_count": 17,
   "metadata": {},
   "outputs": [],
   "source": [
    "from keras.utils import to_categorical\n",
    "\n",
    "n_classes = 10  # Replace with the actual number of classes\n",
    "\n",
    "# Convert labels to one-hot encoded format\n",
    "y_train = to_categorical(y_train, n_classes)\n",
    "y_test = to_categorical(y_test, n_classes)\n"
   ]
  },
  {
   "cell_type": "code",
   "execution_count": 18,
   "metadata": {
    "colab": {
     "base_uri": "https://localhost:8080/"
    },
    "id": "LnZG_4SZkame",
    "outputId": "7c046c9d-4f6a-496a-f3de-f984c0d15889"
   },
   "outputs": [
    {
     "name": "stdout",
     "output_type": "stream",
     "text": [
      "[[0. 0. 0. ... 0. 0. 0.]\n",
      " [1. 0. 0. ... 0. 0. 0.]\n",
      " [0. 0. 0. ... 0. 0. 0.]\n",
      " ...\n",
      " [0. 0. 0. ... 0. 0. 1.]\n",
      " [0. 1. 0. ... 0. 0. 0.]\n",
      " [0. 0. 0. ... 0. 0. 0.]]\n",
      "(3000, 10)\n"
     ]
    }
   ],
   "source": [
    "print(y_train)\n",
    "print(y_train.shape)"
   ]
  },
  {
   "cell_type": "markdown",
   "metadata": {
    "id": "tVQZ2HTDkamg"
   },
   "source": [
    "# Neural Network Architecture"
   ]
  },
  {
   "cell_type": "markdown",
   "metadata": {
    "id": "6sAPpEgWkamh"
   },
   "source": [
    "## 1. Basic Network with 1 Hidden Layer"
   ]
  },
  {
   "cell_type": "code",
   "execution_count": 19,
   "metadata": {
    "id": "eILy9Tbkkamh"
   },
   "outputs": [],
   "source": [
    "model1 = Sequential()"
   ]
  },
  {
   "cell_type": "code",
   "execution_count": 21,
   "metadata": {},
   "outputs": [],
   "source": [
    "from tensorflow.keras.layers import Dense, Dropout, Activation"
   ]
  },
  {
   "cell_type": "code",
   "execution_count": 22,
   "metadata": {
    "id": "Dj_r-FMxkami"
   },
   "outputs": [],
   "source": [
    "model1.add(Dense(512, input_shape = (784,), activation= 'sigmoid'))\n",
    "model1.add(Dense(n_classes, activation = 'softmax'))"
   ]
  },
  {
   "cell_type": "code",
   "execution_count": 23,
   "metadata": {
    "id": "rE22h-dDkamk"
   },
   "outputs": [],
   "source": [
    "model1.compile(optimizer=\"sgd\",\n",
    "               loss = 'categorical_crossentropy', \n",
    "               metrics = ['accuracy'])"
   ]
  },
  {
   "cell_type": "code",
   "execution_count": 24,
   "metadata": {
    "colab": {
     "base_uri": "https://localhost:8080/"
    },
    "id": "RTr3tKiskamk",
    "outputId": "58569759-dd77-4635-9157-5d189379eabb",
    "scrolled": false
   },
   "outputs": [
    {
     "name": "stdout",
     "output_type": "stream",
     "text": [
      "Model: \"sequential\"\n",
      "_________________________________________________________________\n",
      " Layer (type)                Output Shape              Param #   \n",
      "=================================================================\n",
      " dense (Dense)               (None, 512)               401920    \n",
      "                                                                 \n",
      " dense_1 (Dense)             (None, 10)                5130      \n",
      "                                                                 \n",
      "=================================================================\n",
      "Total params: 407050 (1.55 MB)\n",
      "Trainable params: 407050 (1.55 MB)\n",
      "Non-trainable params: 0 (0.00 Byte)\n",
      "_________________________________________________________________\n"
     ]
    }
   ],
   "source": [
    "model1.summary()\n",
    "#keras.utils.plot_model(model1, \"my_first_model.png\", show_shapes = True)"
   ]
  },
  {
   "cell_type": "code",
   "execution_count": 25,
   "metadata": {
    "colab": {
     "base_uri": "https://localhost:8080/"
    },
    "id": "s3t1RFeQkaml",
    "outputId": "2c3075d6-1697-43c9-bb30-87169a859305"
   },
   "outputs": [
    {
     "data": {
      "text/plain": [
       "401920"
      ]
     },
     "execution_count": 25,
     "metadata": {},
     "output_type": "execute_result"
    }
   ],
   "source": [
    "784*512 + 512"
   ]
  },
  {
   "cell_type": "code",
   "execution_count": 26,
   "metadata": {
    "colab": {
     "base_uri": "https://localhost:8080/"
    },
    "id": "FGk4npOakamm",
    "outputId": "b1f2c56c-67ab-468c-9553-f4569a22b2de",
    "scrolled": true
   },
   "outputs": [
    {
     "name": "stdout",
     "output_type": "stream",
     "text": [
      "Epoch 1/100\n",
      "24/24 [==============================] - 2s 33ms/step - loss: 2.3328 - accuracy: 0.1010 - val_loss: 2.2853 - val_accuracy: 0.1580\n",
      "Epoch 2/100\n",
      "24/24 [==============================] - 0s 12ms/step - loss: 2.2576 - accuracy: 0.2030 - val_loss: 2.2484 - val_accuracy: 0.2480\n",
      "Epoch 3/100\n",
      "24/24 [==============================] - 0s 12ms/step - loss: 2.2156 - accuracy: 0.2980 - val_loss: 2.2130 - val_accuracy: 0.2660\n",
      "Epoch 4/100\n",
      "24/24 [==============================] - 0s 12ms/step - loss: 2.1748 - accuracy: 0.3760 - val_loss: 2.1794 - val_accuracy: 0.3020\n",
      "Epoch 5/100\n",
      "24/24 [==============================] - 0s 14ms/step - loss: 2.1350 - accuracy: 0.4213 - val_loss: 2.1345 - val_accuracy: 0.3840\n",
      "Epoch 6/100\n",
      "24/24 [==============================] - 0s 14ms/step - loss: 2.0953 - accuracy: 0.4733 - val_loss: 2.1023 - val_accuracy: 0.4460\n",
      "Epoch 7/100\n",
      "24/24 [==============================] - 0s 13ms/step - loss: 2.0567 - accuracy: 0.5160 - val_loss: 2.0647 - val_accuracy: 0.4660\n",
      "Epoch 8/100\n",
      "24/24 [==============================] - 0s 13ms/step - loss: 2.0194 - accuracy: 0.5377 - val_loss: 2.0402 - val_accuracy: 0.5100\n",
      "Epoch 9/100\n",
      "24/24 [==============================] - 0s 13ms/step - loss: 1.9821 - accuracy: 0.5747 - val_loss: 2.0064 - val_accuracy: 0.5200\n",
      "Epoch 10/100\n",
      "24/24 [==============================] - 0s 13ms/step - loss: 1.9469 - accuracy: 0.5947 - val_loss: 1.9686 - val_accuracy: 0.5380\n",
      "Epoch 11/100\n",
      "24/24 [==============================] - 0s 13ms/step - loss: 1.9104 - accuracy: 0.6113 - val_loss: 1.9396 - val_accuracy: 0.5220\n",
      "Epoch 12/100\n",
      "24/24 [==============================] - 0s 13ms/step - loss: 1.8749 - accuracy: 0.6067 - val_loss: 1.9092 - val_accuracy: 0.5940\n",
      "Epoch 13/100\n",
      "24/24 [==============================] - 0s 14ms/step - loss: 1.8403 - accuracy: 0.6640 - val_loss: 1.8806 - val_accuracy: 0.5900\n",
      "Epoch 14/100\n",
      "24/24 [==============================] - 0s 13ms/step - loss: 1.8051 - accuracy: 0.6513 - val_loss: 1.8482 - val_accuracy: 0.6120\n",
      "Epoch 15/100\n",
      "24/24 [==============================] - 0s 14ms/step - loss: 1.7742 - accuracy: 0.6620 - val_loss: 1.8198 - val_accuracy: 0.5740\n",
      "Epoch 16/100\n",
      "24/24 [==============================] - 0s 13ms/step - loss: 1.7401 - accuracy: 0.6620 - val_loss: 1.7955 - val_accuracy: 0.5920\n",
      "Epoch 17/100\n",
      "24/24 [==============================] - 0s 14ms/step - loss: 1.7084 - accuracy: 0.6750 - val_loss: 1.7591 - val_accuracy: 0.5920\n",
      "Epoch 18/100\n",
      "24/24 [==============================] - 0s 14ms/step - loss: 1.6753 - accuracy: 0.6817 - val_loss: 1.7339 - val_accuracy: 0.5880\n",
      "Epoch 19/100\n",
      "24/24 [==============================] - 0s 13ms/step - loss: 1.6450 - accuracy: 0.6900 - val_loss: 1.7018 - val_accuracy: 0.6060\n",
      "Epoch 20/100\n",
      "24/24 [==============================] - 0s 13ms/step - loss: 1.6147 - accuracy: 0.7107 - val_loss: 1.6782 - val_accuracy: 0.6120\n",
      "Epoch 21/100\n",
      "24/24 [==============================] - 0s 13ms/step - loss: 1.5851 - accuracy: 0.7020 - val_loss: 1.6502 - val_accuracy: 0.6240\n",
      "Epoch 22/100\n",
      "24/24 [==============================] - 0s 12ms/step - loss: 1.5561 - accuracy: 0.7060 - val_loss: 1.6219 - val_accuracy: 0.6700\n",
      "Epoch 23/100\n",
      "24/24 [==============================] - 0s 13ms/step - loss: 1.5269 - accuracy: 0.7340 - val_loss: 1.5986 - val_accuracy: 0.6240\n",
      "Epoch 24/100\n",
      "24/24 [==============================] - 0s 12ms/step - loss: 1.4991 - accuracy: 0.7180 - val_loss: 1.5757 - val_accuracy: 0.6520\n",
      "Epoch 25/100\n",
      "24/24 [==============================] - 0s 14ms/step - loss: 1.4719 - accuracy: 0.7313 - val_loss: 1.5479 - val_accuracy: 0.6560\n",
      "Epoch 26/100\n",
      "24/24 [==============================] - 0s 12ms/step - loss: 1.4451 - accuracy: 0.7347 - val_loss: 1.5221 - val_accuracy: 0.6700\n",
      "Epoch 27/100\n",
      "24/24 [==============================] - 0s 14ms/step - loss: 1.4191 - accuracy: 0.7360 - val_loss: 1.5019 - val_accuracy: 0.6780\n",
      "Epoch 28/100\n",
      "24/24 [==============================] - 0s 13ms/step - loss: 1.3943 - accuracy: 0.7440 - val_loss: 1.4756 - val_accuracy: 0.6820\n",
      "Epoch 29/100\n",
      "24/24 [==============================] - 0s 13ms/step - loss: 1.3700 - accuracy: 0.7460 - val_loss: 1.4617 - val_accuracy: 0.6340\n",
      "Epoch 30/100\n",
      "24/24 [==============================] - 0s 13ms/step - loss: 1.3459 - accuracy: 0.7467 - val_loss: 1.4316 - val_accuracy: 0.6860\n",
      "Epoch 31/100\n",
      "24/24 [==============================] - 0s 12ms/step - loss: 1.3229 - accuracy: 0.7567 - val_loss: 1.4108 - val_accuracy: 0.6800\n",
      "Epoch 32/100\n",
      "24/24 [==============================] - 0s 13ms/step - loss: 1.3002 - accuracy: 0.7583 - val_loss: 1.3915 - val_accuracy: 0.6660\n",
      "Epoch 33/100\n",
      "24/24 [==============================] - 0s 13ms/step - loss: 1.2777 - accuracy: 0.7570 - val_loss: 1.3741 - val_accuracy: 0.6700\n",
      "Epoch 34/100\n",
      "24/24 [==============================] - 0s 13ms/step - loss: 1.2565 - accuracy: 0.7697 - val_loss: 1.3545 - val_accuracy: 0.6660\n",
      "Epoch 35/100\n",
      "24/24 [==============================] - 0s 13ms/step - loss: 1.2356 - accuracy: 0.7643 - val_loss: 1.3312 - val_accuracy: 0.7080\n",
      "Epoch 36/100\n",
      "24/24 [==============================] - 0s 14ms/step - loss: 1.2153 - accuracy: 0.7753 - val_loss: 1.3141 - val_accuracy: 0.6880\n",
      "Epoch 37/100\n",
      "24/24 [==============================] - 0s 13ms/step - loss: 1.1962 - accuracy: 0.7713 - val_loss: 1.2925 - val_accuracy: 0.7200\n",
      "Epoch 38/100\n",
      "24/24 [==============================] - 0s 13ms/step - loss: 1.1759 - accuracy: 0.7787 - val_loss: 1.2758 - val_accuracy: 0.7280\n",
      "Epoch 39/100\n",
      "24/24 [==============================] - 0s 12ms/step - loss: 1.1582 - accuracy: 0.7827 - val_loss: 1.2583 - val_accuracy: 0.7320\n",
      "Epoch 40/100\n",
      "24/24 [==============================] - 0s 13ms/step - loss: 1.1398 - accuracy: 0.7883 - val_loss: 1.2444 - val_accuracy: 0.7460\n",
      "Epoch 41/100\n",
      "24/24 [==============================] - 0s 13ms/step - loss: 1.1228 - accuracy: 0.7963 - val_loss: 1.2277 - val_accuracy: 0.7160\n",
      "Epoch 42/100\n",
      "24/24 [==============================] - 0s 13ms/step - loss: 1.1053 - accuracy: 0.7907 - val_loss: 1.2105 - val_accuracy: 0.7420\n",
      "Epoch 43/100\n",
      "24/24 [==============================] - 0s 12ms/step - loss: 1.0896 - accuracy: 0.7947 - val_loss: 1.1945 - val_accuracy: 0.7460\n",
      "Epoch 44/100\n",
      "24/24 [==============================] - 0s 12ms/step - loss: 1.0732 - accuracy: 0.8017 - val_loss: 1.1805 - val_accuracy: 0.7420\n",
      "Epoch 45/100\n",
      "24/24 [==============================] - 0s 12ms/step - loss: 1.0576 - accuracy: 0.7990 - val_loss: 1.1664 - val_accuracy: 0.7440\n",
      "Epoch 46/100\n",
      "24/24 [==============================] - 0s 12ms/step - loss: 1.0428 - accuracy: 0.8000 - val_loss: 1.1529 - val_accuracy: 0.7320\n",
      "Epoch 47/100\n",
      "24/24 [==============================] - 0s 12ms/step - loss: 1.0282 - accuracy: 0.8037 - val_loss: 1.1390 - val_accuracy: 0.7400\n",
      "Epoch 48/100\n",
      "24/24 [==============================] - 0s 12ms/step - loss: 1.0140 - accuracy: 0.8010 - val_loss: 1.1242 - val_accuracy: 0.7600\n",
      "Epoch 49/100\n",
      "24/24 [==============================] - 0s 13ms/step - loss: 1.0004 - accuracy: 0.8143 - val_loss: 1.1114 - val_accuracy: 0.7380\n",
      "Epoch 50/100\n",
      "24/24 [==============================] - 0s 13ms/step - loss: 0.9876 - accuracy: 0.8060 - val_loss: 1.0973 - val_accuracy: 0.7500\n",
      "Epoch 51/100\n",
      "24/24 [==============================] - 0s 13ms/step - loss: 0.9741 - accuracy: 0.8130 - val_loss: 1.0881 - val_accuracy: 0.7500\n",
      "Epoch 52/100\n",
      "24/24 [==============================] - 0s 12ms/step - loss: 0.9621 - accuracy: 0.8087 - val_loss: 1.0732 - val_accuracy: 0.7580\n",
      "Epoch 53/100\n",
      "24/24 [==============================] - 0s 13ms/step - loss: 0.9496 - accuracy: 0.8160 - val_loss: 1.0638 - val_accuracy: 0.7500\n",
      "Epoch 54/100\n",
      "24/24 [==============================] - 0s 12ms/step - loss: 0.9380 - accuracy: 0.8157 - val_loss: 1.0491 - val_accuracy: 0.7700\n",
      "Epoch 55/100\n",
      "24/24 [==============================] - 0s 12ms/step - loss: 0.9267 - accuracy: 0.8237 - val_loss: 1.0398 - val_accuracy: 0.7480\n",
      "Epoch 56/100\n",
      "24/24 [==============================] - 0s 12ms/step - loss: 0.9151 - accuracy: 0.8213 - val_loss: 1.0314 - val_accuracy: 0.7440\n",
      "Epoch 57/100\n",
      "24/24 [==============================] - 0s 13ms/step - loss: 0.9048 - accuracy: 0.8197 - val_loss: 1.0170 - val_accuracy: 0.7660\n",
      "Epoch 58/100\n",
      "24/24 [==============================] - 0s 13ms/step - loss: 0.8938 - accuracy: 0.8240 - val_loss: 1.0064 - val_accuracy: 0.7620\n",
      "Epoch 59/100\n",
      "24/24 [==============================] - 0s 13ms/step - loss: 0.8836 - accuracy: 0.8293 - val_loss: 0.9961 - val_accuracy: 0.7620\n",
      "Epoch 60/100\n",
      "24/24 [==============================] - 0s 12ms/step - loss: 0.8738 - accuracy: 0.8223 - val_loss: 0.9866 - val_accuracy: 0.7680\n",
      "Epoch 61/100\n",
      "24/24 [==============================] - 0s 12ms/step - loss: 0.8647 - accuracy: 0.8313 - val_loss: 0.9792 - val_accuracy: 0.7600\n",
      "Epoch 62/100\n",
      "24/24 [==============================] - 0s 13ms/step - loss: 0.8552 - accuracy: 0.8277 - val_loss: 0.9678 - val_accuracy: 0.7680\n",
      "Epoch 63/100\n",
      "24/24 [==============================] - 0s 13ms/step - loss: 0.8460 - accuracy: 0.8293 - val_loss: 0.9602 - val_accuracy: 0.7660\n",
      "Epoch 64/100\n",
      "24/24 [==============================] - 0s 13ms/step - loss: 0.8370 - accuracy: 0.8330 - val_loss: 0.9508 - val_accuracy: 0.7740\n",
      "Epoch 65/100\n",
      "24/24 [==============================] - 0s 12ms/step - loss: 0.8281 - accuracy: 0.8317 - val_loss: 0.9413 - val_accuracy: 0.7660\n",
      "Epoch 66/100\n",
      "24/24 [==============================] - 0s 12ms/step - loss: 0.8195 - accuracy: 0.8363 - val_loss: 0.9340 - val_accuracy: 0.7920\n",
      "Epoch 67/100\n",
      "24/24 [==============================] - 0s 13ms/step - loss: 0.8119 - accuracy: 0.8330 - val_loss: 0.9256 - val_accuracy: 0.7800\n",
      "Epoch 68/100\n",
      "24/24 [==============================] - 0s 13ms/step - loss: 0.8037 - accuracy: 0.8340 - val_loss: 0.9203 - val_accuracy: 0.7660\n",
      "Epoch 69/100\n",
      "24/24 [==============================] - 0s 13ms/step - loss: 0.7960 - accuracy: 0.8397 - val_loss: 0.9114 - val_accuracy: 0.7700\n",
      "Epoch 70/100\n",
      "24/24 [==============================] - 0s 12ms/step - loss: 0.7881 - accuracy: 0.8423 - val_loss: 0.9044 - val_accuracy: 0.7680\n",
      "Epoch 71/100\n",
      "24/24 [==============================] - 0s 12ms/step - loss: 0.7807 - accuracy: 0.8387 - val_loss: 0.8935 - val_accuracy: 0.7820\n",
      "Epoch 72/100\n",
      "24/24 [==============================] - 0s 13ms/step - loss: 0.7740 - accuracy: 0.8387 - val_loss: 0.8879 - val_accuracy: 0.7720\n",
      "Epoch 73/100\n",
      "24/24 [==============================] - 0s 13ms/step - loss: 0.7668 - accuracy: 0.8447 - val_loss: 0.8813 - val_accuracy: 0.7660\n",
      "Epoch 74/100\n",
      "24/24 [==============================] - 0s 13ms/step - loss: 0.7601 - accuracy: 0.8430 - val_loss: 0.8747 - val_accuracy: 0.7720\n",
      "Epoch 75/100\n",
      "24/24 [==============================] - 0s 13ms/step - loss: 0.7537 - accuracy: 0.8427 - val_loss: 0.8660 - val_accuracy: 0.7780\n",
      "Epoch 76/100\n",
      "24/24 [==============================] - 0s 12ms/step - loss: 0.7469 - accuracy: 0.8443 - val_loss: 0.8588 - val_accuracy: 0.7880\n",
      "Epoch 77/100\n",
      "24/24 [==============================] - 0s 13ms/step - loss: 0.7405 - accuracy: 0.8443 - val_loss: 0.8520 - val_accuracy: 0.7960\n",
      "Epoch 78/100\n",
      "24/24 [==============================] - 0s 13ms/step - loss: 0.7342 - accuracy: 0.8457 - val_loss: 0.8462 - val_accuracy: 0.7940\n",
      "Epoch 79/100\n",
      "24/24 [==============================] - 0s 13ms/step - loss: 0.7280 - accuracy: 0.8460 - val_loss: 0.8398 - val_accuracy: 0.7860\n",
      "Epoch 80/100\n",
      "24/24 [==============================] - 0s 13ms/step - loss: 0.7222 - accuracy: 0.8493 - val_loss: 0.8350 - val_accuracy: 0.7840\n",
      "Epoch 81/100\n",
      "24/24 [==============================] - 0s 13ms/step - loss: 0.7167 - accuracy: 0.8507 - val_loss: 0.8274 - val_accuracy: 0.7980\n",
      "Epoch 82/100\n",
      "24/24 [==============================] - 0s 13ms/step - loss: 0.7110 - accuracy: 0.8500 - val_loss: 0.8216 - val_accuracy: 0.8000\n",
      "Epoch 83/100\n",
      "24/24 [==============================] - 0s 13ms/step - loss: 0.7054 - accuracy: 0.8480 - val_loss: 0.8160 - val_accuracy: 0.7980\n",
      "Epoch 84/100\n",
      "24/24 [==============================] - 0s 12ms/step - loss: 0.6997 - accuracy: 0.8497 - val_loss: 0.8126 - val_accuracy: 0.8000\n",
      "Epoch 85/100\n",
      "24/24 [==============================] - 0s 12ms/step - loss: 0.6944 - accuracy: 0.8520 - val_loss: 0.8060 - val_accuracy: 0.7980\n",
      "Epoch 86/100\n",
      "24/24 [==============================] - 0s 13ms/step - loss: 0.6893 - accuracy: 0.8513 - val_loss: 0.7998 - val_accuracy: 0.7980\n",
      "Epoch 87/100\n",
      "24/24 [==============================] - 0s 13ms/step - loss: 0.6841 - accuracy: 0.8503 - val_loss: 0.7941 - val_accuracy: 0.8020\n",
      "Epoch 88/100\n",
      "24/24 [==============================] - 0s 12ms/step - loss: 0.6793 - accuracy: 0.8543 - val_loss: 0.7894 - val_accuracy: 0.8040\n",
      "Epoch 89/100\n",
      "24/24 [==============================] - 0s 13ms/step - loss: 0.6745 - accuracy: 0.8543 - val_loss: 0.7858 - val_accuracy: 0.8020\n",
      "Epoch 90/100\n",
      "24/24 [==============================] - 0s 13ms/step - loss: 0.6698 - accuracy: 0.8553 - val_loss: 0.7795 - val_accuracy: 0.8100\n",
      "Epoch 91/100\n",
      "24/24 [==============================] - 0s 12ms/step - loss: 0.6650 - accuracy: 0.8570 - val_loss: 0.7754 - val_accuracy: 0.8040\n",
      "Epoch 92/100\n",
      "24/24 [==============================] - 0s 14ms/step - loss: 0.6604 - accuracy: 0.8577 - val_loss: 0.7731 - val_accuracy: 0.7920\n",
      "Epoch 93/100\n",
      "24/24 [==============================] - 0s 14ms/step - loss: 0.6560 - accuracy: 0.8587 - val_loss: 0.7666 - val_accuracy: 0.8000\n",
      "Epoch 94/100\n",
      "24/24 [==============================] - 0s 13ms/step - loss: 0.6519 - accuracy: 0.8570 - val_loss: 0.7613 - val_accuracy: 0.7980\n",
      "Epoch 95/100\n",
      "24/24 [==============================] - 0s 13ms/step - loss: 0.6474 - accuracy: 0.8580 - val_loss: 0.7551 - val_accuracy: 0.8120\n",
      "Epoch 96/100\n",
      "24/24 [==============================] - 0s 12ms/step - loss: 0.6433 - accuracy: 0.8567 - val_loss: 0.7524 - val_accuracy: 0.8040\n",
      "Epoch 97/100\n",
      "24/24 [==============================] - 0s 13ms/step - loss: 0.6389 - accuracy: 0.8590 - val_loss: 0.7486 - val_accuracy: 0.8060\n",
      "Epoch 98/100\n",
      "24/24 [==============================] - 0s 13ms/step - loss: 0.6347 - accuracy: 0.8610 - val_loss: 0.7430 - val_accuracy: 0.8020\n",
      "Epoch 99/100\n",
      "24/24 [==============================] - 0s 13ms/step - loss: 0.6307 - accuracy: 0.8610 - val_loss: 0.7389 - val_accuracy: 0.8060\n",
      "Epoch 100/100\n",
      "24/24 [==============================] - 0s 13ms/step - loss: 0.6267 - accuracy: 0.8587 - val_loss: 0.7364 - val_accuracy: 0.8080\n"
     ]
    }
   ],
   "source": [
    "history = model1.fit(x_train, y_train,\n",
    "                     batch_size=128, epochs=100, verbose=True, \n",
    "                     validation_data= (x_test, y_test)) #validation_split=.1\n",
    "loss, accuracy  = model1.evaluate(x_test, y_test, verbose=False)"
   ]
  },
  {
   "cell_type": "code",
   "execution_count": 27,
   "metadata": {
    "id": "kW5i8yuV7yV9"
   },
   "outputs": [],
   "source": [
    "def plot_history(history):\n",
    "  fig = plt.figure()\n",
    "  plt.subplot(2,1,1)\n",
    "  plt.plot(history.history['accuracy'])\n",
    "  plt.plot(history.history['val_accuracy'])\n",
    "  plt.title('model accuracy')\n",
    "  plt.ylabel('accuracy')\n",
    "  plt.xlabel('epoch')\n",
    "  plt.legend(['train', 'test'], loc='lower right')\n",
    "\n",
    "  plt.subplot(2,1,2)\n",
    "  plt.plot(history.history['loss'])\n",
    "  plt.plot(history.history['val_loss'])\n",
    "  plt.title('model loss')\n",
    "  plt.ylabel('loss')\n",
    "  plt.xlabel('epoch')\n",
    "  plt.legend(['train', 'test'], loc='upper right')\n",
    "\n",
    "  plt.tight_layout()"
   ]
  },
  {
   "cell_type": "code",
   "execution_count": 28,
   "metadata": {
    "colab": {
     "base_uri": "https://localhost:8080/",
     "height": 297
    },
    "id": "2sdRCi5L8Bvm",
    "outputId": "24c74a2a-9bca-46d9-c200-8ea40bb2b2de"
   },
   "outputs": [
    {
     "data": {
      "image/png": "[encoded data removed]",
      "text/plain": [
       "<Figure size 432x288 with 2 Axes>"
      ]
     },
     "metadata": {
      "needs_background": "light"
     },
     "output_type": "display_data"
    }
   ],
   "source": [
    "plot_history(history)"
   ]
  },
  {
   "cell_type": "code",
   "execution_count": 29,
   "metadata": {
    "colab": {
     "base_uri": "https://localhost:8080/",
     "height": 297
    },
    "id": "BC-VluC-kamm",
    "outputId": "69b07c52-0d9b-4c02-c691-81099a5cbb72"
   },
   "outputs": [
    {
     "data": {
      "image/png": "[encoded data removed]",
      "text/plain": [
       "<Figure size 432x288 with 2 Axes>"
      ]
     },
     "metadata": {
      "needs_background": "light"
     },
     "output_type": "display_data"
    }
   ],
   "source": [
    "fig = plt.figure()\n",
    "plt.subplot(2,1,1)\n",
    "plt.plot(history.history['accuracy'])\n",
    "plt.plot(history.history['val_accuracy'])\n",
    "plt.title('model accuracy')\n",
    "plt.ylabel('accuracy')\n",
    "plt.xlabel('epoch')\n",
    "plt.legend(['train', 'test'], loc='lower right')\n",
    "\n",
    "plt.subplot(2,1,2)\n",
    "plt.plot(history.history['loss'])\n",
    "plt.plot(history.history['val_loss'])\n",
    "plt.title('model loss')\n",
    "plt.ylabel('loss')\n",
    "plt.xlabel('epoch')\n",
    "plt.legend(['train', 'test'], loc='upper right')\n",
    "\n",
    "plt.tight_layout()"
   ]
  },
  {
   "cell_type": "markdown",
   "metadata": {
    "id": "l8KIbOpfkamo"
   },
   "source": [
    "## Model Evaluation"
   ]
  },
  {
   "cell_type": "code",
   "execution_count": 30,
   "metadata": {
    "colab": {
     "base_uri": "https://localhost:8080/"
    },
    "id": "0R79Sn9skamo",
    "outputId": "89de7e3e-f8f6-48b3-8de2-aec3f9132b20"
   },
   "outputs": [
    {
     "name": "stdout",
     "output_type": "stream",
     "text": [
      "94/94 - 0s - loss: 0.6241 - accuracy: 0.8627 - 456ms/epoch - 5ms/step\n",
      "Train Loss 0.6240823864936829\n",
      "Train Accuracy 0.862666666507721\n"
     ]
    }
   ],
   "source": [
    "loss_and_metrics = model1.evaluate(x_train, y_train, verbose=2)\n",
    "\n",
    "print(\"Train Loss\", loss_and_metrics[0])\n",
    "print(\"Train Accuracy\", loss_and_metrics[1])"
   ]
  },
  {
   "cell_type": "code",
   "execution_count": 31,
   "metadata": {
    "colab": {
     "base_uri": "https://localhost:8080/"
    },
    "id": "XTmNR75Lkamp",
    "outputId": "c88b36ca-5969-49a0-db31-2f4f43b25fe1"
   },
   "outputs": [
    {
     "name": "stdout",
     "output_type": "stream",
     "text": [
      "16/16 - 0s - loss: 0.7364 - accuracy: 0.8080 - 113ms/epoch - 7ms/step\n",
      "Test Loss 0.7363970875740051\n",
      "Test Accuracy 0.8080000281333923\n"
     ]
    }
   ],
   "source": [
    "loss_and_metrics = model1.evaluate(x_test, y_test, verbose=2)\n",
    "\n",
    "print(\"Test Loss\", loss_and_metrics[0])\n",
    "print(\"Test Accuracy\", loss_and_metrics[1])"
   ]
  },
  {
   "cell_type": "markdown",
   "metadata": {
    "id": "E3u7t8-1kamq"
   },
   "source": [
    "## 2. Network with 2 Hidden Layers"
   ]
  },
  {
   "cell_type": "code",
   "execution_count": 32,
   "metadata": {
    "id": "zJIIWnjMkamq"
   },
   "outputs": [],
   "source": [
    "model2= Sequential()"
   ]
  },
  {
   "cell_type": "code",
   "execution_count": 33,
   "metadata": {
    "colab": {
     "base_uri": "https://localhost:8080/"
    },
    "id": "Uq661sZ7kamr",
    "outputId": "35ff7947-6a10-4862-d7a5-07572e84d055"
   },
   "outputs": [
    {
     "name": "stdout",
     "output_type": "stream",
     "text": [
      "Model: \"sequential_1\"\n",
      "_________________________________________________________________\n",
      " Layer (type)                Output Shape              Param #   \n",
      "=================================================================\n",
      " dense_2 (Dense)             (None, 512)               401920    \n",
      "                                                                 \n",
      " dense_3 (Dense)             (None, 100)               51300     \n",
      "                                                                 \n",
      " dense_4 (Dense)             (None, 10)                1010      \n",
      "                                                                 \n",
      "=================================================================\n",
      "Total params: 454230 (1.73 MB)\n",
      "Trainable params: 454230 (1.73 MB)\n",
      "Non-trainable params: 0 (0.00 Byte)\n",
      "_________________________________________________________________\n"
     ]
    }
   ],
   "source": [
    "model2.add(Dense(512, input_shape = (784,), activation= 'sigmoid'))\n",
    "model2.add(Dense(100, activation = 'sigmoid'))\n",
    "model2.add(Dense(n_classes, activation = 'softmax'))\n",
    "model2.compile(optimizer=\"sgd\", loss = 'categorical_crossentropy', metrics = ['accuracy'])\n",
    "model2.summary()\n",
    "#keras.utils.plot_model(model2, \"my_first_model.png\", show_shapes = True)"
   ]
  },
  {
   "cell_type": "code",
   "execution_count": 34,
   "metadata": {
    "colab": {
     "base_uri": "https://localhost:8080/"
    },
    "id": "Htj6E7xGkams",
    "outputId": "9557bea8-14b2-48b7-ac75-a8aa663c4edb"
   },
   "outputs": [
    {
     "name": "stdout",
     "output_type": "stream",
     "text": [
      "Epoch 1/100\n",
      "24/24 [==============================] - 2s 31ms/step - loss: 2.3667 - accuracy: 0.1020 - val_loss: 2.3123 - val_accuracy: 0.0860\n",
      "Epoch 2/100\n",
      "24/24 [==============================] - 0s 13ms/step - loss: 2.3016 - accuracy: 0.0960 - val_loss: 2.2902 - val_accuracy: 0.0960\n",
      "Epoch 3/100\n",
      "24/24 [==============================] - 0s 13ms/step - loss: 2.2892 - accuracy: 0.1190 - val_loss: 2.2831 - val_accuracy: 0.1360\n",
      "Epoch 4/100\n",
      "24/24 [==============================] - 0s 13ms/step - loss: 2.2839 - accuracy: 0.1300 - val_loss: 2.2807 - val_accuracy: 0.2020\n",
      "Epoch 5/100\n",
      "24/24 [==============================] - 0s 13ms/step - loss: 2.2800 - accuracy: 0.1850 - val_loss: 2.2764 - val_accuracy: 0.2080\n",
      "Epoch 6/100\n",
      "24/24 [==============================] - 0s 14ms/step - loss: 2.2756 - accuracy: 0.2090 - val_loss: 2.2727 - val_accuracy: 0.1840\n",
      "Epoch 7/100\n",
      "24/24 [==============================] - 0s 13ms/step - loss: 2.2718 - accuracy: 0.1963 - val_loss: 2.2693 - val_accuracy: 0.2600\n",
      "Epoch 8/100\n",
      "24/24 [==============================] - 0s 13ms/step - loss: 2.2674 - accuracy: 0.2603 - val_loss: 2.2653 - val_accuracy: 0.2500\n",
      "Epoch 9/100\n",
      "24/24 [==============================] - 0s 13ms/step - loss: 2.2632 - accuracy: 0.2357 - val_loss: 2.2617 - val_accuracy: 0.2680\n",
      "Epoch 10/100\n",
      "24/24 [==============================] - 0s 14ms/step - loss: 2.2592 - accuracy: 0.2673 - val_loss: 2.2584 - val_accuracy: 0.2840\n",
      "Epoch 11/100\n",
      "24/24 [==============================] - 0s 13ms/step - loss: 2.2550 - accuracy: 0.2797 - val_loss: 2.2538 - val_accuracy: 0.2780\n",
      "Epoch 12/100\n",
      "24/24 [==============================] - 0s 13ms/step - loss: 2.2505 - accuracy: 0.2987 - val_loss: 2.2501 - val_accuracy: 0.3020\n",
      "Epoch 13/100\n",
      "24/24 [==============================] - 0s 13ms/step - loss: 2.2464 - accuracy: 0.3007 - val_loss: 2.2472 - val_accuracy: 0.3240\n",
      "Epoch 14/100\n",
      "24/24 [==============================] - 0s 13ms/step - loss: 2.2422 - accuracy: 0.3487 - val_loss: 2.2426 - val_accuracy: 0.2660\n",
      "Epoch 15/100\n",
      "24/24 [==============================] - 0s 14ms/step - loss: 2.2375 - accuracy: 0.2817 - val_loss: 2.2406 - val_accuracy: 0.3500\n",
      "Epoch 16/100\n",
      "24/24 [==============================] - 0s 13ms/step - loss: 2.2334 - accuracy: 0.3663 - val_loss: 2.2359 - val_accuracy: 0.3460\n",
      "Epoch 17/100\n",
      "24/24 [==============================] - 0s 14ms/step - loss: 2.2287 - accuracy: 0.3443 - val_loss: 2.2314 - val_accuracy: 0.3720\n",
      "Epoch 18/100\n",
      "24/24 [==============================] - 0s 13ms/step - loss: 2.2244 - accuracy: 0.3870 - val_loss: 2.2281 - val_accuracy: 0.3480\n",
      "Epoch 19/100\n",
      "24/24 [==============================] - 0s 13ms/step - loss: 2.2197 - accuracy: 0.3797 - val_loss: 2.2239 - val_accuracy: 0.3660\n",
      "Epoch 20/100\n",
      "24/24 [==============================] - 0s 13ms/step - loss: 2.2152 - accuracy: 0.4027 - val_loss: 2.2193 - val_accuracy: 0.3400\n",
      "Epoch 21/100\n",
      "24/24 [==============================] - 0s 12ms/step - loss: 2.2105 - accuracy: 0.3757 - val_loss: 2.2153 - val_accuracy: 0.3720\n",
      "Epoch 22/100\n",
      "24/24 [==============================] - 0s 14ms/step - loss: 2.2058 - accuracy: 0.4047 - val_loss: 2.2105 - val_accuracy: 0.4020\n",
      "Epoch 23/100\n",
      "24/24 [==============================] - 0s 13ms/step - loss: 2.2008 - accuracy: 0.4073 - val_loss: 2.2067 - val_accuracy: 0.4280\n",
      "Epoch 24/100\n",
      "24/24 [==============================] - 0s 13ms/step - loss: 2.1961 - accuracy: 0.4510 - val_loss: 2.2025 - val_accuracy: 0.4340\n",
      "Epoch 25/100\n",
      "24/24 [==============================] - 0s 13ms/step - loss: 2.1909 - accuracy: 0.4460 - val_loss: 2.1983 - val_accuracy: 0.4280\n",
      "Epoch 26/100\n",
      "24/24 [==============================] - 0s 14ms/step - loss: 2.1859 - accuracy: 0.4720 - val_loss: 2.1932 - val_accuracy: 0.4320\n",
      "Epoch 27/100\n",
      "24/24 [==============================] - 0s 14ms/step - loss: 2.1807 - accuracy: 0.4490 - val_loss: 2.1891 - val_accuracy: 0.4440\n",
      "Epoch 28/100\n",
      "24/24 [==============================] - 0s 13ms/step - loss: 2.1756 - accuracy: 0.4743 - val_loss: 2.1837 - val_accuracy: 0.4480\n",
      "Epoch 29/100\n",
      "24/24 [==============================] - 0s 13ms/step - loss: 2.1704 - accuracy: 0.4920 - val_loss: 2.1783 - val_accuracy: 0.4260\n",
      "Epoch 30/100\n",
      "24/24 [==============================] - 0s 13ms/step - loss: 2.1648 - accuracy: 0.4807 - val_loss: 2.1734 - val_accuracy: 0.4380\n",
      "Epoch 31/100\n",
      "24/24 [==============================] - 0s 14ms/step - loss: 2.1595 - accuracy: 0.4987 - val_loss: 2.1690 - val_accuracy: 0.4120\n",
      "Epoch 32/100\n",
      "24/24 [==============================] - 0s 13ms/step - loss: 2.1538 - accuracy: 0.4747 - val_loss: 2.1641 - val_accuracy: 0.4500\n",
      "Epoch 33/100\n",
      "24/24 [==============================] - 0s 14ms/step - loss: 2.1482 - accuracy: 0.4920 - val_loss: 2.1587 - val_accuracy: 0.4460\n",
      "Epoch 34/100\n",
      "24/24 [==============================] - 0s 14ms/step - loss: 2.1423 - accuracy: 0.5017 - val_loss: 2.1534 - val_accuracy: 0.4620\n",
      "Epoch 35/100\n",
      "24/24 [==============================] - 0s 14ms/step - loss: 2.1364 - accuracy: 0.5210 - val_loss: 2.1482 - val_accuracy: 0.4660\n",
      "Epoch 36/100\n",
      "24/24 [==============================] - 0s 14ms/step - loss: 2.1306 - accuracy: 0.5187 - val_loss: 2.1435 - val_accuracy: 0.4880\n",
      "Epoch 37/100\n",
      "24/24 [==============================] - 0s 14ms/step - loss: 2.1243 - accuracy: 0.5480 - val_loss: 2.1370 - val_accuracy: 0.4540\n",
      "Epoch 38/100\n",
      "24/24 [==============================] - 0s 14ms/step - loss: 2.1178 - accuracy: 0.5280 - val_loss: 2.1319 - val_accuracy: 0.4580\n",
      "Epoch 39/100\n",
      "24/24 [==============================] - 0s 14ms/step - loss: 2.1116 - accuracy: 0.5270 - val_loss: 2.1266 - val_accuracy: 0.4960\n",
      "Epoch 40/100\n",
      "24/24 [==============================] - 0s 15ms/step - loss: 2.1052 - accuracy: 0.5410 - val_loss: 2.1193 - val_accuracy: 0.4640\n",
      "Epoch 41/100\n",
      "24/24 [==============================] - 0s 13ms/step - loss: 2.0987 - accuracy: 0.5270 - val_loss: 2.1134 - val_accuracy: 0.4820\n",
      "Epoch 42/100\n",
      "24/24 [==============================] - 0s 14ms/step - loss: 2.0922 - accuracy: 0.5527 - val_loss: 2.1078 - val_accuracy: 0.4840\n",
      "Epoch 43/100\n",
      "24/24 [==============================] - 0s 15ms/step - loss: 2.0851 - accuracy: 0.5537 - val_loss: 2.1022 - val_accuracy: 0.4940\n",
      "Epoch 44/100\n",
      "24/24 [==============================] - 0s 14ms/step - loss: 2.0783 - accuracy: 0.5577 - val_loss: 2.0953 - val_accuracy: 0.4980\n",
      "Epoch 45/100\n",
      "24/24 [==============================] - 0s 14ms/step - loss: 2.0713 - accuracy: 0.5720 - val_loss: 2.0896 - val_accuracy: 0.4900\n",
      "Epoch 46/100\n",
      "24/24 [==============================] - 0s 13ms/step - loss: 2.0641 - accuracy: 0.5627 - val_loss: 2.0835 - val_accuracy: 0.5080\n",
      "Epoch 47/100\n",
      "24/24 [==============================] - 0s 14ms/step - loss: 2.0567 - accuracy: 0.5567 - val_loss: 2.0752 - val_accuracy: 0.5140\n",
      "Epoch 48/100\n",
      "24/24 [==============================] - 0s 14ms/step - loss: 2.0493 - accuracy: 0.5770 - val_loss: 2.0691 - val_accuracy: 0.4860\n",
      "Epoch 49/100\n",
      "24/24 [==============================] - 0s 14ms/step - loss: 2.0420 - accuracy: 0.5660 - val_loss: 2.0625 - val_accuracy: 0.4960\n",
      "Epoch 50/100\n",
      "24/24 [==============================] - 0s 14ms/step - loss: 2.0340 - accuracy: 0.5683 - val_loss: 2.0549 - val_accuracy: 0.5200\n",
      "Epoch 51/100\n",
      "24/24 [==============================] - 0s 14ms/step - loss: 2.0258 - accuracy: 0.5800 - val_loss: 2.0485 - val_accuracy: 0.5140\n",
      "Epoch 52/100\n",
      "24/24 [==============================] - 0s 14ms/step - loss: 2.0179 - accuracy: 0.5740 - val_loss: 2.0411 - val_accuracy: 0.5100\n",
      "Epoch 53/100\n",
      "24/24 [==============================] - 0s 14ms/step - loss: 2.0097 - accuracy: 0.5817 - val_loss: 2.0351 - val_accuracy: 0.5120\n",
      "Epoch 54/100\n",
      "24/24 [==============================] - 0s 14ms/step - loss: 2.0015 - accuracy: 0.5917 - val_loss: 2.0272 - val_accuracy: 0.5040\n",
      "Epoch 55/100\n",
      "24/24 [==============================] - 0s 14ms/step - loss: 1.9928 - accuracy: 0.5730 - val_loss: 2.0196 - val_accuracy: 0.5260\n",
      "Epoch 56/100\n",
      "24/24 [==============================] - 0s 13ms/step - loss: 1.9844 - accuracy: 0.5857 - val_loss: 2.0121 - val_accuracy: 0.5300\n",
      "Epoch 57/100\n",
      "24/24 [==============================] - 0s 14ms/step - loss: 1.9756 - accuracy: 0.5953 - val_loss: 2.0042 - val_accuracy: 0.5280\n",
      "Epoch 58/100\n",
      "24/24 [==============================] - 0s 13ms/step - loss: 1.9665 - accuracy: 0.6013 - val_loss: 1.9949 - val_accuracy: 0.4980\n",
      "Epoch 59/100\n",
      "24/24 [==============================] - 0s 14ms/step - loss: 1.9574 - accuracy: 0.5910 - val_loss: 1.9870 - val_accuracy: 0.5360\n",
      "Epoch 60/100\n",
      "24/24 [==============================] - 0s 14ms/step - loss: 1.9484 - accuracy: 0.5967 - val_loss: 1.9782 - val_accuracy: 0.5600\n",
      "Epoch 61/100\n",
      "24/24 [==============================] - 0s 14ms/step - loss: 1.9387 - accuracy: 0.5990 - val_loss: 1.9684 - val_accuracy: 0.5420\n",
      "Epoch 62/100\n",
      "24/24 [==============================] - 0s 14ms/step - loss: 1.9289 - accuracy: 0.6160 - val_loss: 1.9607 - val_accuracy: 0.5180\n",
      "Epoch 63/100\n",
      "24/24 [==============================] - 0s 14ms/step - loss: 1.9194 - accuracy: 0.6000 - val_loss: 1.9520 - val_accuracy: 0.5280\n",
      "Epoch 64/100\n",
      "24/24 [==============================] - 0s 13ms/step - loss: 1.9097 - accuracy: 0.5983 - val_loss: 1.9432 - val_accuracy: 0.5620\n",
      "Epoch 65/100\n",
      "24/24 [==============================] - 0s 14ms/step - loss: 1.8995 - accuracy: 0.6207 - val_loss: 1.9326 - val_accuracy: 0.5540\n",
      "Epoch 66/100\n",
      "24/24 [==============================] - 0s 14ms/step - loss: 1.8894 - accuracy: 0.6223 - val_loss: 1.9225 - val_accuracy: 0.5540\n",
      "Epoch 67/100\n",
      "24/24 [==============================] - 0s 14ms/step - loss: 1.8791 - accuracy: 0.6100 - val_loss: 1.9140 - val_accuracy: 0.5620\n",
      "Epoch 68/100\n",
      "24/24 [==============================] - 0s 13ms/step - loss: 1.8685 - accuracy: 0.6237 - val_loss: 1.9043 - val_accuracy: 0.5560\n",
      "Epoch 69/100\n",
      "24/24 [==============================] - 0s 14ms/step - loss: 1.8578 - accuracy: 0.6137 - val_loss: 1.8947 - val_accuracy: 0.5540\n",
      "Epoch 70/100\n",
      "24/24 [==============================] - 0s 14ms/step - loss: 1.8472 - accuracy: 0.6200 - val_loss: 1.8856 - val_accuracy: 0.5560\n",
      "Epoch 71/100\n",
      "24/24 [==============================] - 0s 14ms/step - loss: 1.8363 - accuracy: 0.6167 - val_loss: 1.8753 - val_accuracy: 0.5580\n",
      "Epoch 72/100\n",
      "24/24 [==============================] - 0s 14ms/step - loss: 1.8253 - accuracy: 0.6370 - val_loss: 1.8644 - val_accuracy: 0.5460\n",
      "Epoch 73/100\n",
      "24/24 [==============================] - 0s 14ms/step - loss: 1.8142 - accuracy: 0.6107 - val_loss: 1.8548 - val_accuracy: 0.5620\n",
      "Epoch 74/100\n",
      "24/24 [==============================] - 0s 14ms/step - loss: 1.8028 - accuracy: 0.6350 - val_loss: 1.8446 - val_accuracy: 0.5600\n",
      "Epoch 75/100\n",
      "24/24 [==============================] - 0s 14ms/step - loss: 1.7915 - accuracy: 0.6313 - val_loss: 1.8349 - val_accuracy: 0.5640\n",
      "Epoch 76/100\n",
      "24/24 [==============================] - 0s 13ms/step - loss: 1.7800 - accuracy: 0.6367 - val_loss: 1.8232 - val_accuracy: 0.5680\n",
      "Epoch 77/100\n",
      "24/24 [==============================] - 0s 13ms/step - loss: 1.7686 - accuracy: 0.6337 - val_loss: 1.8139 - val_accuracy: 0.5780\n",
      "Epoch 78/100\n",
      "24/24 [==============================] - 0s 13ms/step - loss: 1.7565 - accuracy: 0.6477 - val_loss: 1.8031 - val_accuracy: 0.5660\n",
      "Epoch 79/100\n",
      "24/24 [==============================] - 0s 13ms/step - loss: 1.7446 - accuracy: 0.6390 - val_loss: 1.7922 - val_accuracy: 0.5720\n",
      "Epoch 80/100\n",
      "24/24 [==============================] - 0s 13ms/step - loss: 1.7329 - accuracy: 0.6447 - val_loss: 1.7811 - val_accuracy: 0.5820\n",
      "Epoch 81/100\n",
      "24/24 [==============================] - 0s 13ms/step - loss: 1.7210 - accuracy: 0.6427 - val_loss: 1.7691 - val_accuracy: 0.5840\n",
      "Epoch 82/100\n",
      "24/24 [==============================] - 0s 13ms/step - loss: 1.7091 - accuracy: 0.6610 - val_loss: 1.7581 - val_accuracy: 0.5740\n",
      "Epoch 83/100\n",
      "24/24 [==============================] - 0s 13ms/step - loss: 1.6970 - accuracy: 0.6577 - val_loss: 1.7475 - val_accuracy: 0.5800\n",
      "Epoch 84/100\n",
      "24/24 [==============================] - 0s 13ms/step - loss: 1.6850 - accuracy: 0.6627 - val_loss: 1.7368 - val_accuracy: 0.5740\n",
      "Epoch 85/100\n",
      "24/24 [==============================] - 0s 14ms/step - loss: 1.6727 - accuracy: 0.6503 - val_loss: 1.7258 - val_accuracy: 0.5920\n",
      "Epoch 86/100\n",
      "24/24 [==============================] - 0s 13ms/step - loss: 1.6601 - accuracy: 0.6557 - val_loss: 1.7143 - val_accuracy: 0.6040\n",
      "Epoch 87/100\n",
      "24/24 [==============================] - 0s 13ms/step - loss: 1.6478 - accuracy: 0.6750 - val_loss: 1.7021 - val_accuracy: 0.6020\n",
      "Epoch 88/100\n",
      "24/24 [==============================] - 0s 13ms/step - loss: 1.6357 - accuracy: 0.6643 - val_loss: 1.6919 - val_accuracy: 0.6080\n",
      "Epoch 89/100\n",
      "24/24 [==============================] - 0s 13ms/step - loss: 1.6232 - accuracy: 0.6730 - val_loss: 1.6802 - val_accuracy: 0.6000\n",
      "Epoch 90/100\n",
      "24/24 [==============================] - 0s 13ms/step - loss: 1.6108 - accuracy: 0.6737 - val_loss: 1.6685 - val_accuracy: 0.6120\n",
      "Epoch 91/100\n",
      "24/24 [==============================] - 0s 14ms/step - loss: 1.5986 - accuracy: 0.6750 - val_loss: 1.6569 - val_accuracy: 0.6120\n",
      "Epoch 92/100\n",
      "24/24 [==============================] - 0s 14ms/step - loss: 1.5862 - accuracy: 0.6830 - val_loss: 1.6453 - val_accuracy: 0.6080\n",
      "Epoch 93/100\n",
      "24/24 [==============================] - 0s 14ms/step - loss: 1.5739 - accuracy: 0.6867 - val_loss: 1.6331 - val_accuracy: 0.6140\n",
      "Epoch 94/100\n",
      "24/24 [==============================] - 0s 14ms/step - loss: 1.5615 - accuracy: 0.6777 - val_loss: 1.6219 - val_accuracy: 0.6200\n",
      "Epoch 95/100\n",
      "24/24 [==============================] - 0s 13ms/step - loss: 1.5489 - accuracy: 0.6923 - val_loss: 1.6107 - val_accuracy: 0.6180\n",
      "Epoch 96/100\n",
      "24/24 [==============================] - 0s 14ms/step - loss: 1.5367 - accuracy: 0.6873 - val_loss: 1.5994 - val_accuracy: 0.6180\n",
      "Epoch 97/100\n",
      "24/24 [==============================] - 0s 13ms/step - loss: 1.5244 - accuracy: 0.7027 - val_loss: 1.5877 - val_accuracy: 0.6160\n",
      "Epoch 98/100\n",
      "24/24 [==============================] - 0s 13ms/step - loss: 1.5123 - accuracy: 0.6887 - val_loss: 1.5767 - val_accuracy: 0.6120\n",
      "Epoch 99/100\n",
      "24/24 [==============================] - 0s 13ms/step - loss: 1.5001 - accuracy: 0.6880 - val_loss: 1.5652 - val_accuracy: 0.6340\n",
      "Epoch 100/100\n",
      "24/24 [==============================] - 0s 14ms/step - loss: 1.4876 - accuracy: 0.6980 - val_loss: 1.5536 - val_accuracy: 0.6240\n",
      "16/16 [==============================] - 0s 6ms/step - loss: 1.5536 - accuracy: 0.6240\n"
     ]
    }
   ],
   "source": [
    "history = model2.fit(x_train, y_train, batch_size=128, epochs=100, verbose=True, validation_data= (x_test, y_test)) #validation_split=.1\n",
    "loss, accuracy  = model2.evaluate(x_test, y_test, verbose=True)"
   ]
  },
  {
   "cell_type": "code",
   "execution_count": 35,
   "metadata": {
    "colab": {
     "base_uri": "https://localhost:8080/",
     "height": 297
    },
    "id": "i2S5z4okkamt",
    "outputId": "ac644898-9763-4fb3-fe78-b79e2c62df14"
   },
   "outputs": [
    {
     "data": {
      "image/png": "[encoded data removed]",
      "text/plain": [
       "<Figure size 432x288 with 2 Axes>"
      ]
     },
     "metadata": {
      "needs_background": "light"
     },
     "output_type": "display_data"
    }
   ],
   "source": [
    "fig = plt.figure()\n",
    "plt.subplot(2,1,1)\n",
    "plt.plot(history.history['accuracy'])\n",
    "plt.plot(history.history['val_accuracy'])\n",
    "plt.title('model accuracy')\n",
    "plt.ylabel('accuracy')\n",
    "plt.xlabel('epoch')\n",
    "plt.legend(['train', 'test'], loc='lower right')\n",
    "\n",
    "plt.subplot(2,1,2)\n",
    "plt.plot(history.history['loss'])\n",
    "plt.plot(history.history['val_loss'])\n",
    "plt.title('model loss')\n",
    "plt.ylabel('loss')\n",
    "plt.xlabel('epoch')\n",
    "plt.legend(['train', 'test'], loc='upper right')\n",
    "\n",
    "plt.tight_layout()"
   ]
  },
  {
   "cell_type": "markdown",
   "metadata": {
    "id": "ez_K_Lvtkamu"
   },
   "source": [
    "## Model Evaluation"
   ]
  },
  {
   "cell_type": "code",
   "execution_count": 36,
   "metadata": {
    "colab": {
     "base_uri": "https://localhost:8080/"
    },
    "id": "MHwOnpMMkamu",
    "outputId": "ae6652a1-4cba-4b6a-db2c-111024aa31c3"
   },
   "outputs": [
    {
     "name": "stdout",
     "output_type": "stream",
     "text": [
      "94/94 - 0s - loss: 1.4805 - accuracy: 0.7000 - 479ms/epoch - 5ms/step\n",
      "Train Loss 1.4805247783660889\n",
      "Train Accuracy 0.699999988079071\n"
     ]
    }
   ],
   "source": [
    "loss_and_metrics = model2.evaluate(x_train, y_train, verbose=2)\n",
    "\n",
    "print(\"Train Loss\", loss_and_metrics[0])\n",
    "print(\"Train Accuracy\", loss_and_metrics[1])"
   ]
  },
  {
   "cell_type": "code",
   "execution_count": 37,
   "metadata": {
    "colab": {
     "base_uri": "https://localhost:8080/"
    },
    "id": "Yfpzukookamv",
    "outputId": "87732476-3f42-4b2e-e904-72fd3a702c4d"
   },
   "outputs": [
    {
     "name": "stdout",
     "output_type": "stream",
     "text": [
      "16/16 - 0s - loss: 1.5536 - accuracy: 0.6240 - 134ms/epoch - 8ms/step\n",
      "Test Loss 1.5535968542099\n",
      "Test Accuracy 0.6240000128746033\n"
     ]
    }
   ],
   "source": [
    "loss_and_metrics = model2.evaluate(x_test, y_test, verbose=2)\n",
    "\n",
    "print(\"Test Loss\", loss_and_metrics[0])\n",
    "print(\"Test Accuracy\", loss_and_metrics[1])"
   ]
  },
  {
   "cell_type": "markdown",
   "metadata": {
    "id": "g42vgCDdkamw"
   },
   "source": [
    "## 3. Network with 3 Hidden Layers"
   ]
  },
  {
   "cell_type": "code",
   "execution_count": 38,
   "metadata": {
    "id": "nNT2sRXnkamw"
   },
   "outputs": [],
   "source": [
    "model3= Sequential()"
   ]
  },
  {
   "cell_type": "code",
   "execution_count": 39,
   "metadata": {
    "colab": {
     "base_uri": "https://localhost:8080/"
    },
    "id": "Jjosv9k9kamx",
    "outputId": "d5d9eb3f-608e-45af-9ad3-57b3b5cc85bc"
   },
   "outputs": [
    {
     "name": "stdout",
     "output_type": "stream",
     "text": [
      "Model: \"sequential_2\"\n",
      "_________________________________________________________________\n",
      " Layer (type)                Output Shape              Param #   \n",
      "=================================================================\n",
      " dense_5 (Dense)             (None, 512)               401920    \n",
      "                                                                 \n",
      " dense_6 (Dense)             (None, 100)               51300     \n",
      "                                                                 \n",
      " dense_7 (Dense)             (None, 100)               10100     \n",
      "                                                                 \n",
      " dense_8 (Dense)             (None, 10)                1010      \n",
      "                                                                 \n",
      "=================================================================\n",
      "Total params: 464330 (1.77 MB)\n",
      "Trainable params: 464330 (1.77 MB)\n",
      "Non-trainable params: 0 (0.00 Byte)\n",
      "_________________________________________________________________\n"
     ]
    }
   ],
   "source": [
    "model3.add(Dense(512, input_shape = (784,), activation= 'sigmoid'))\n",
    "model3.add(Dense(100, activation = 'sigmoid'))\n",
    "model3.add(Dense(100, activation = 'sigmoid'))\n",
    "model3.add(Dense(n_classes, activation = 'softmax'))\n",
    "model3.compile(optimizer=\"sgd\", loss = 'categorical_crossentropy', metrics = ['accuracy'])\n",
    "model3.summary()"
   ]
  },
  {
   "cell_type": "code",
   "execution_count": 40,
   "metadata": {
    "colab": {
     "base_uri": "https://localhost:8080/"
    },
    "id": "F142vi2ckamx",
    "outputId": "4897fa91-d862-4951-da37-0d0a40423d9a"
   },
   "outputs": [
    {
     "name": "stdout",
     "output_type": "stream",
     "text": [
      "Epoch 1/100\n",
      "24/24 [==============================] - 2s 29ms/step - loss: 2.4939 - accuracy: 0.0950 - val_loss: 2.4288 - val_accuracy: 0.0840\n",
      "Epoch 2/100\n",
      "24/24 [==============================] - 0s 16ms/step - loss: 2.3529 - accuracy: 0.0950 - val_loss: 2.3417 - val_accuracy: 0.0640\n",
      "Epoch 3/100\n",
      "24/24 [==============================] - 0s 15ms/step - loss: 2.3129 - accuracy: 0.0977 - val_loss: 2.3123 - val_accuracy: 0.0980\n",
      "Epoch 4/100\n",
      "24/24 [==============================] - 0s 15ms/step - loss: 2.3023 - accuracy: 0.1093 - val_loss: 2.3027 - val_accuracy: 0.0980\n",
      "Epoch 5/100\n",
      "24/24 [==============================] - 0s 14ms/step - loss: 2.2998 - accuracy: 0.1093 - val_loss: 2.2991 - val_accuracy: 0.1740\n",
      "Epoch 6/100\n",
      "24/24 [==============================] - 0s 14ms/step - loss: 2.2988 - accuracy: 0.1287 - val_loss: 2.2973 - val_accuracy: 0.1340\n",
      "Epoch 7/100\n",
      "24/24 [==============================] - 0s 14ms/step - loss: 2.2984 - accuracy: 0.1357 - val_loss: 2.2964 - val_accuracy: 0.1340\n",
      "Epoch 8/100\n",
      "24/24 [==============================] - 0s 15ms/step - loss: 2.2983 - accuracy: 0.1163 - val_loss: 2.2965 - val_accuracy: 0.1400\n",
      "Epoch 9/100\n",
      "24/24 [==============================] - 0s 15ms/step - loss: 2.2981 - accuracy: 0.1350 - val_loss: 2.2963 - val_accuracy: 0.1700\n",
      "Epoch 10/100\n",
      "24/24 [==============================] - 0s 15ms/step - loss: 2.2977 - accuracy: 0.1420 - val_loss: 2.2953 - val_accuracy: 0.1340\n",
      "Epoch 11/100\n",
      "24/24 [==============================] - 0s 16ms/step - loss: 2.2974 - accuracy: 0.1170 - val_loss: 2.2963 - val_accuracy: 0.1340\n",
      "Epoch 12/100\n",
      "24/24 [==============================] - 0s 16ms/step - loss: 2.2974 - accuracy: 0.1287 - val_loss: 2.2954 - val_accuracy: 0.1340\n",
      "Epoch 13/100\n",
      "24/24 [==============================] - 0s 15ms/step - loss: 2.2972 - accuracy: 0.1133 - val_loss: 2.2946 - val_accuracy: 0.1340\n",
      "Epoch 14/100\n",
      "24/24 [==============================] - 0s 15ms/step - loss: 2.2967 - accuracy: 0.1150 - val_loss: 2.2945 - val_accuracy: 0.1340\n",
      "Epoch 15/100\n",
      "24/24 [==============================] - 0s 14ms/step - loss: 2.2965 - accuracy: 0.1230 - val_loss: 2.2951 - val_accuracy: 0.1920\n",
      "Epoch 16/100\n",
      "24/24 [==============================] - 0s 15ms/step - loss: 2.2962 - accuracy: 0.1567 - val_loss: 2.2941 - val_accuracy: 0.1340\n",
      "Epoch 17/100\n",
      "24/24 [==============================] - 0s 14ms/step - loss: 2.2959 - accuracy: 0.1280 - val_loss: 2.2938 - val_accuracy: 0.1340\n",
      "Epoch 18/100\n",
      "24/24 [==============================] - 0s 15ms/step - loss: 2.2960 - accuracy: 0.1260 - val_loss: 2.2940 - val_accuracy: 0.1340\n",
      "Epoch 19/100\n",
      "24/24 [==============================] - 0s 13ms/step - loss: 2.2954 - accuracy: 0.1130 - val_loss: 2.2940 - val_accuracy: 0.1480\n",
      "Epoch 20/100\n",
      "24/24 [==============================] - 0s 14ms/step - loss: 2.2953 - accuracy: 0.1223 - val_loss: 2.2943 - val_accuracy: 0.1360\n",
      "Epoch 21/100\n",
      "24/24 [==============================] - 0s 15ms/step - loss: 2.2951 - accuracy: 0.1170 - val_loss: 2.2946 - val_accuracy: 0.2000\n",
      "Epoch 22/100\n",
      "24/24 [==============================] - 0s 15ms/step - loss: 2.2946 - accuracy: 0.1413 - val_loss: 2.2944 - val_accuracy: 0.1960\n",
      "Epoch 23/100\n",
      "24/24 [==============================] - 0s 15ms/step - loss: 2.2946 - accuracy: 0.1593 - val_loss: 2.2939 - val_accuracy: 0.1440\n",
      "Epoch 24/100\n",
      "24/24 [==============================] - 0s 14ms/step - loss: 2.2941 - accuracy: 0.1357 - val_loss: 2.2933 - val_accuracy: 0.1480\n",
      "Epoch 25/100\n",
      "24/24 [==============================] - 0s 14ms/step - loss: 2.2940 - accuracy: 0.1457 - val_loss: 2.2928 - val_accuracy: 0.1340\n",
      "Epoch 26/100\n",
      "24/24 [==============================] - 0s 15ms/step - loss: 2.2937 - accuracy: 0.1193 - val_loss: 2.2925 - val_accuracy: 0.1340\n",
      "Epoch 27/100\n",
      "24/24 [==============================] - 0s 15ms/step - loss: 2.2938 - accuracy: 0.1190 - val_loss: 2.2926 - val_accuracy: 0.1840\n",
      "Epoch 28/100\n",
      "24/24 [==============================] - 0s 15ms/step - loss: 2.2933 - accuracy: 0.1670 - val_loss: 2.2921 - val_accuracy: 0.1340\n",
      "Epoch 29/100\n",
      "24/24 [==============================] - 0s 14ms/step - loss: 2.2932 - accuracy: 0.1143 - val_loss: 2.2923 - val_accuracy: 0.1480\n",
      "Epoch 30/100\n",
      "24/24 [==============================] - 0s 13ms/step - loss: 2.2926 - accuracy: 0.1337 - val_loss: 2.2918 - val_accuracy: 0.2020\n",
      "Epoch 31/100\n",
      "24/24 [==============================] - 0s 14ms/step - loss: 2.2925 - accuracy: 0.1643 - val_loss: 2.2915 - val_accuracy: 0.1360\n",
      "Epoch 32/100\n",
      "24/24 [==============================] - 0s 14ms/step - loss: 2.2924 - accuracy: 0.1430 - val_loss: 2.2909 - val_accuracy: 0.1340\n",
      "Epoch 33/100\n",
      "24/24 [==============================] - 0s 14ms/step - loss: 2.2921 - accuracy: 0.1220 - val_loss: 2.2910 - val_accuracy: 0.1680\n",
      "Epoch 34/100\n",
      "24/24 [==============================] - 0s 14ms/step - loss: 2.2917 - accuracy: 0.1507 - val_loss: 2.2912 - val_accuracy: 0.1780\n",
      "Epoch 35/100\n",
      "24/24 [==============================] - 0s 14ms/step - loss: 2.2915 - accuracy: 0.1727 - val_loss: 2.2904 - val_accuracy: 0.1420\n",
      "Epoch 36/100\n",
      "24/24 [==============================] - 0s 16ms/step - loss: 2.2913 - accuracy: 0.1637 - val_loss: 2.2895 - val_accuracy: 0.1340\n",
      "Epoch 37/100\n",
      "24/24 [==============================] - 0s 15ms/step - loss: 2.2911 - accuracy: 0.1197 - val_loss: 2.2894 - val_accuracy: 0.1340\n",
      "Epoch 38/100\n",
      "24/24 [==============================] - 0s 14ms/step - loss: 2.2909 - accuracy: 0.1183 - val_loss: 2.2897 - val_accuracy: 0.1460\n",
      "Epoch 39/100\n",
      "24/24 [==============================] - 0s 14ms/step - loss: 2.2905 - accuracy: 0.1223 - val_loss: 2.2902 - val_accuracy: 0.2000\n",
      "Epoch 40/100\n",
      "24/24 [==============================] - 0s 15ms/step - loss: 2.2902 - accuracy: 0.1617 - val_loss: 2.2906 - val_accuracy: 0.2000\n",
      "Epoch 41/100\n",
      "24/24 [==============================] - 0s 15ms/step - loss: 2.2898 - accuracy: 0.1450 - val_loss: 2.2906 - val_accuracy: 0.2140\n",
      "Epoch 42/100\n",
      "24/24 [==============================] - 0s 14ms/step - loss: 2.2896 - accuracy: 0.1750 - val_loss: 2.2899 - val_accuracy: 0.2140\n",
      "Epoch 43/100\n",
      "24/24 [==============================] - 0s 14ms/step - loss: 2.2892 - accuracy: 0.1577 - val_loss: 2.2887 - val_accuracy: 0.2060\n",
      "Epoch 44/100\n",
      "24/24 [==============================] - 0s 14ms/step - loss: 2.2891 - accuracy: 0.1797 - val_loss: 2.2883 - val_accuracy: 0.2500\n",
      "Epoch 45/100\n",
      "24/24 [==============================] - 0s 15ms/step - loss: 2.2889 - accuracy: 0.2097 - val_loss: 2.2869 - val_accuracy: 0.1340\n",
      "Epoch 46/100\n",
      "24/24 [==============================] - 0s 14ms/step - loss: 2.2886 - accuracy: 0.1303 - val_loss: 2.2869 - val_accuracy: 0.1340\n",
      "Epoch 47/100\n",
      "24/24 [==============================] - 0s 14ms/step - loss: 2.2883 - accuracy: 0.1160 - val_loss: 2.2874 - val_accuracy: 0.1600\n",
      "Epoch 48/100\n",
      "24/24 [==============================] - 0s 14ms/step - loss: 2.2880 - accuracy: 0.1463 - val_loss: 2.2876 - val_accuracy: 0.1920\n",
      "Epoch 49/100\n",
      "24/24 [==============================] - 0s 15ms/step - loss: 2.2879 - accuracy: 0.1413 - val_loss: 2.2874 - val_accuracy: 0.2120\n",
      "Epoch 50/100\n",
      "24/24 [==============================] - 0s 14ms/step - loss: 2.2876 - accuracy: 0.1813 - val_loss: 2.2874 - val_accuracy: 0.1620\n",
      "Epoch 51/100\n",
      "24/24 [==============================] - 0s 16ms/step - loss: 2.2872 - accuracy: 0.1913 - val_loss: 2.2873 - val_accuracy: 0.1420\n",
      "Epoch 52/100\n",
      "24/24 [==============================] - 0s 13ms/step - loss: 2.2868 - accuracy: 0.1280 - val_loss: 2.2869 - val_accuracy: 0.1940\n",
      "Epoch 53/100\n",
      "24/24 [==============================] - 0s 14ms/step - loss: 2.2867 - accuracy: 0.1337 - val_loss: 2.2869 - val_accuracy: 0.2080\n",
      "Epoch 54/100\n",
      "24/24 [==============================] - 0s 14ms/step - loss: 2.2864 - accuracy: 0.2203 - val_loss: 2.2860 - val_accuracy: 0.1560\n",
      "Epoch 55/100\n",
      "24/24 [==============================] - 0s 14ms/step - loss: 2.2860 - accuracy: 0.1343 - val_loss: 2.2861 - val_accuracy: 0.1940\n",
      "Epoch 56/100\n",
      "24/24 [==============================] - 0s 14ms/step - loss: 2.2856 - accuracy: 0.1587 - val_loss: 2.2856 - val_accuracy: 0.1660\n",
      "Epoch 57/100\n",
      "24/24 [==============================] - 0s 14ms/step - loss: 2.2853 - accuracy: 0.1577 - val_loss: 2.2857 - val_accuracy: 0.1960\n",
      "Epoch 58/100\n",
      "24/24 [==============================] - 0s 15ms/step - loss: 2.2851 - accuracy: 0.1810 - val_loss: 2.2857 - val_accuracy: 0.2280\n",
      "Epoch 59/100\n",
      "24/24 [==============================] - 0s 15ms/step - loss: 2.2849 - accuracy: 0.1427 - val_loss: 2.2851 - val_accuracy: 0.2460\n",
      "Epoch 60/100\n",
      "24/24 [==============================] - 0s 15ms/step - loss: 2.2846 - accuracy: 0.1780 - val_loss: 2.2846 - val_accuracy: 0.2100\n",
      "Epoch 61/100\n",
      "24/24 [==============================] - 0s 15ms/step - loss: 2.2842 - accuracy: 0.1853 - val_loss: 2.2849 - val_accuracy: 0.1980\n",
      "Epoch 62/100\n",
      "24/24 [==============================] - 0s 15ms/step - loss: 2.2840 - accuracy: 0.1487 - val_loss: 2.2845 - val_accuracy: 0.2180\n",
      "Epoch 63/100\n",
      "24/24 [==============================] - 0s 15ms/step - loss: 2.2835 - accuracy: 0.1983 - val_loss: 2.2837 - val_accuracy: 0.1680\n",
      "Epoch 64/100\n",
      "24/24 [==============================] - 0s 15ms/step - loss: 2.2834 - accuracy: 0.1530 - val_loss: 2.2834 - val_accuracy: 0.2020\n",
      "Epoch 65/100\n",
      "24/24 [==============================] - 0s 15ms/step - loss: 2.2829 - accuracy: 0.2243 - val_loss: 2.2830 - val_accuracy: 0.1380\n",
      "Epoch 66/100\n",
      "24/24 [==============================] - 0s 15ms/step - loss: 2.2827 - accuracy: 0.1803 - val_loss: 2.2830 - val_accuracy: 0.1380\n",
      "Epoch 67/100\n",
      "24/24 [==============================] - 0s 14ms/step - loss: 2.2823 - accuracy: 0.1390 - val_loss: 2.2826 - val_accuracy: 0.1920\n",
      "Epoch 68/100\n",
      "24/24 [==============================] - 0s 14ms/step - loss: 2.2821 - accuracy: 0.1480 - val_loss: 2.2824 - val_accuracy: 0.1960\n",
      "Epoch 69/100\n",
      "24/24 [==============================] - 0s 13ms/step - loss: 2.2817 - accuracy: 0.1903 - val_loss: 2.2817 - val_accuracy: 0.1780\n",
      "Epoch 70/100\n",
      "24/24 [==============================] - 0s 14ms/step - loss: 2.2814 - accuracy: 0.1550 - val_loss: 2.2819 - val_accuracy: 0.2120\n",
      "Epoch 71/100\n",
      "24/24 [==============================] - 0s 14ms/step - loss: 2.2810 - accuracy: 0.1803 - val_loss: 2.2810 - val_accuracy: 0.1920\n",
      "Epoch 72/100\n",
      "24/24 [==============================] - 0s 14ms/step - loss: 2.2807 - accuracy: 0.1403 - val_loss: 2.2820 - val_accuracy: 0.2020\n",
      "Epoch 73/100\n",
      "24/24 [==============================] - 0s 15ms/step - loss: 2.2803 - accuracy: 0.1793 - val_loss: 2.2814 - val_accuracy: 0.2140\n",
      "Epoch 74/100\n",
      "24/24 [==============================] - 0s 15ms/step - loss: 2.2801 - accuracy: 0.2023 - val_loss: 2.2805 - val_accuracy: 0.2020\n",
      "Epoch 75/100\n",
      "24/24 [==============================] - 0s 14ms/step - loss: 2.2797 - accuracy: 0.2003 - val_loss: 2.2804 - val_accuracy: 0.2120\n",
      "Epoch 76/100\n",
      "24/24 [==============================] - 0s 14ms/step - loss: 2.2794 - accuracy: 0.2110 - val_loss: 2.2799 - val_accuracy: 0.1460\n",
      "Epoch 77/100\n",
      "24/24 [==============================] - 0s 14ms/step - loss: 2.2790 - accuracy: 0.1560 - val_loss: 2.2790 - val_accuracy: 0.1760\n",
      "Epoch 78/100\n",
      "24/24 [==============================] - 0s 14ms/step - loss: 2.2785 - accuracy: 0.1813 - val_loss: 2.2788 - val_accuracy: 0.2000\n",
      "Epoch 79/100\n",
      "24/24 [==============================] - 0s 14ms/step - loss: 2.2782 - accuracy: 0.2090 - val_loss: 2.2782 - val_accuracy: 0.1640\n",
      "Epoch 80/100\n",
      "24/24 [==============================] - 0s 14ms/step - loss: 2.2778 - accuracy: 0.1713 - val_loss: 2.2786 - val_accuracy: 0.1500\n",
      "Epoch 81/100\n",
      "24/24 [==============================] - 0s 13ms/step - loss: 2.2776 - accuracy: 0.1533 - val_loss: 2.2787 - val_accuracy: 0.2040\n",
      "Epoch 82/100\n",
      "24/24 [==============================] - 0s 14ms/step - loss: 2.2770 - accuracy: 0.2053 - val_loss: 2.2784 - val_accuracy: 0.1980\n",
      "Epoch 83/100\n",
      "24/24 [==============================] - 0s 14ms/step - loss: 2.2769 - accuracy: 0.1757 - val_loss: 2.2782 - val_accuracy: 0.2320\n",
      "Epoch 84/100\n",
      "24/24 [==============================] - 0s 14ms/step - loss: 2.2764 - accuracy: 0.2237 - val_loss: 2.2773 - val_accuracy: 0.2060\n",
      "Epoch 85/100\n",
      "24/24 [==============================] - 0s 14ms/step - loss: 2.2760 - accuracy: 0.2003 - val_loss: 2.2765 - val_accuracy: 0.1500\n",
      "Epoch 86/100\n",
      "24/24 [==============================] - 0s 14ms/step - loss: 2.2756 - accuracy: 0.1490 - val_loss: 2.2767 - val_accuracy: 0.2080\n",
      "Epoch 87/100\n",
      "24/24 [==============================] - 0s 14ms/step - loss: 2.2752 - accuracy: 0.1470 - val_loss: 2.2773 - val_accuracy: 0.2220\n",
      "Epoch 88/100\n",
      "24/24 [==============================] - 0s 14ms/step - loss: 2.2751 - accuracy: 0.1727 - val_loss: 2.2774 - val_accuracy: 0.2160\n",
      "Epoch 89/100\n",
      "24/24 [==============================] - 0s 15ms/step - loss: 2.2746 - accuracy: 0.2267 - val_loss: 2.2768 - val_accuracy: 0.2240\n",
      "Epoch 90/100\n",
      "24/24 [==============================] - 0s 15ms/step - loss: 2.2739 - accuracy: 0.2100 - val_loss: 2.2758 - val_accuracy: 0.2500\n",
      "Epoch 91/100\n",
      "24/24 [==============================] - 0s 15ms/step - loss: 2.2735 - accuracy: 0.2533 - val_loss: 2.2749 - val_accuracy: 0.2100\n",
      "Epoch 92/100\n",
      "24/24 [==============================] - 0s 14ms/step - loss: 2.2731 - accuracy: 0.2237 - val_loss: 2.2743 - val_accuracy: 0.2040\n",
      "Epoch 93/100\n",
      "24/24 [==============================] - 0s 15ms/step - loss: 2.2727 - accuracy: 0.1843 - val_loss: 2.2738 - val_accuracy: 0.2020\n",
      "Epoch 94/100\n",
      "24/24 [==============================] - 0s 14ms/step - loss: 2.2722 - accuracy: 0.2107 - val_loss: 2.2727 - val_accuracy: 0.2460\n",
      "Epoch 95/100\n",
      "24/24 [==============================] - 0s 14ms/step - loss: 2.2719 - accuracy: 0.2180 - val_loss: 2.2724 - val_accuracy: 0.1900\n",
      "Epoch 96/100\n",
      "24/24 [==============================] - 0s 14ms/step - loss: 2.2717 - accuracy: 0.1883 - val_loss: 2.2729 - val_accuracy: 0.2140\n",
      "Epoch 97/100\n",
      "24/24 [==============================] - 0s 14ms/step - loss: 2.2710 - accuracy: 0.2013 - val_loss: 2.2723 - val_accuracy: 0.2320\n",
      "Epoch 98/100\n",
      "24/24 [==============================] - 0s 14ms/step - loss: 2.2708 - accuracy: 0.2257 - val_loss: 2.2716 - val_accuracy: 0.1680\n",
      "Epoch 99/100\n",
      "24/24 [==============================] - 0s 13ms/step - loss: 2.2702 - accuracy: 0.1947 - val_loss: 2.2716 - val_accuracy: 0.1680\n",
      "Epoch 100/100\n",
      "24/24 [==============================] - 0s 13ms/step - loss: 2.2697 - accuracy: 0.2273 - val_loss: 2.2708 - val_accuracy: 0.1660\n",
      "16/16 [==============================] - 0s 6ms/step - loss: 2.2708 - accuracy: 0.1660\n"
     ]
    }
   ],
   "source": [
    "history = model3.fit(x_train, y_train, batch_size=128, epochs=100, verbose=True, validation_data= (x_test, y_test)) #validation_split=.1\n",
    "loss, accuracy  = model3.evaluate(x_test, y_test, verbose=True)"
   ]
  },
  {
   "cell_type": "code",
   "execution_count": 41,
   "metadata": {
    "colab": {
     "base_uri": "https://localhost:8080/",
     "height": 297
    },
    "id": "aCE4CXfFkamy",
    "outputId": "299f209f-f492-4d20-c78b-9a38f4884b8e"
   },
   "outputs": [
    {
     "data": {
      "image/png": "[encoded data removed]",
      "text/plain": [
       "<Figure size 432x288 with 2 Axes>"
      ]
     },
     "metadata": {
      "needs_background": "light"
     },
     "output_type": "display_data"
    }
   ],
   "source": [
    "fig = plt.figure()\n",
    "plt.subplot(2,1,1)\n",
    "plt.plot(history.history['accuracy'])\n",
    "plt.plot(history.history['val_accuracy'])\n",
    "plt.title('model accuracy')\n",
    "plt.ylabel('accuracy')\n",
    "plt.xlabel('epoch')\n",
    "plt.legend(['train', 'test'], loc='lower right')\n",
    "\n",
    "plt.subplot(2,1,2)\n",
    "plt.plot(history.history['loss'])\n",
    "plt.plot(history.history['val_loss'])\n",
    "plt.title('model loss')\n",
    "plt.ylabel('loss')\n",
    "plt.xlabel('epoch')\n",
    "plt.legend(['train', 'test'], loc='upper right')\n",
    "\n",
    "plt.tight_layout()"
   ]
  },
  {
   "cell_type": "markdown",
   "metadata": {
    "id": "NAXCnNndkamz"
   },
   "source": [
    "## Model Evaluation"
   ]
  },
  {
   "cell_type": "code",
   "execution_count": 42,
   "metadata": {
    "colab": {
     "base_uri": "https://localhost:8080/"
    },
    "id": "BH0UmaNgkam0",
    "outputId": "9cfac505-fd83-4797-bb3f-b900bd130452"
   },
   "outputs": [
    {
     "name": "stdout",
     "output_type": "stream",
     "text": [
      "94/94 - 0s - loss: 2.2686 - accuracy: 0.1587 - 497ms/epoch - 5ms/step\n",
      "Train Loss 2.2685964107513428\n",
      "Train Accuracy 0.1586666703224182\n"
     ]
    }
   ],
   "source": [
    "loss_and_metrics = model3.evaluate(x_train, y_train, verbose=2)\n",
    "\n",
    "print(\"Train Loss\", loss_and_metrics[0])\n",
    "print(\"Train Accuracy\", loss_and_metrics[1])"
   ]
  },
  {
   "cell_type": "code",
   "execution_count": 43,
   "metadata": {
    "colab": {
     "base_uri": "https://localhost:8080/"
    },
    "id": "hfNgvCSrkam0",
    "outputId": "317d23b7-aa30-4839-84d7-fb0ab58d1220"
   },
   "outputs": [
    {
     "name": "stdout",
     "output_type": "stream",
     "text": [
      "16/16 - 0s - loss: 2.2708 - accuracy: 0.1660 - 119ms/epoch - 7ms/step\n",
      "Test Loss 2.2707791328430176\n",
      "Test Accuracy 0.16599999368190765\n"
     ]
    }
   ],
   "source": [
    "loss_and_metrics = model3.evaluate(x_test, y_test, verbose=2)\n",
    "\n",
    "print(\"Test Loss\", loss_and_metrics[0])\n",
    "print(\"Test Accuracy\", loss_and_metrics[1])"
   ]
  },
  {
   "cell_type": "markdown",
   "metadata": {
    "id": "mzDeSeOqkam1"
   },
   "source": [
    "## 4. Network with 2 layers and ReLU as an activation func for 1 layer"
   ]
  },
  {
   "cell_type": "code",
   "execution_count": 44,
   "metadata": {
    "id": "hxgNL7KBkam1"
   },
   "outputs": [],
   "source": [
    "model4= Sequential()"
   ]
  },
  {
   "cell_type": "code",
   "execution_count": 45,
   "metadata": {
    "colab": {
     "base_uri": "https://localhost:8080/"
    },
    "id": "6mESHu-hkam2",
    "outputId": "7ab807e8-ad36-48af-c266-32b45bb598f2"
   },
   "outputs": [
    {
     "name": "stdout",
     "output_type": "stream",
     "text": [
      "Model: \"sequential_3\"\n",
      "_________________________________________________________________\n",
      " Layer (type)                Output Shape              Param #   \n",
      "=================================================================\n",
      " dense_9 (Dense)             (None, 512)               401920    \n",
      "                                                                 \n",
      " dense_10 (Dense)            (None, 100)               51300     \n",
      "                                                                 \n",
      " dense_11 (Dense)            (None, 10)                1010      \n",
      "                                                                 \n",
      "=================================================================\n",
      "Total params: 454230 (1.73 MB)\n",
      "Trainable params: 454230 (1.73 MB)\n",
      "Non-trainable params: 0 (0.00 Byte)\n",
      "_________________________________________________________________\n"
     ]
    }
   ],
   "source": [
    "model4.add(Dense(512, input_shape = (784,), activation= 'sigmoid'))\n",
    "model4.add(Dense(100, activation = 'relu'))\n",
    "model4.add(Dense(n_classes, activation = 'softmax'))\n",
    "model4.compile(optimizer=\"sgd\", loss = 'categorical_crossentropy', metrics = ['accuracy'])\n",
    "model4.summary()"
   ]
  },
  {
   "cell_type": "code",
   "execution_count": 46,
   "metadata": {
    "colab": {
     "base_uri": "https://localhost:8080/"
    },
    "id": "leuzZuQHkam3",
    "outputId": "67fa304f-99dc-446c-9924-4b71498556c1"
   },
   "outputs": [
    {
     "name": "stdout",
     "output_type": "stream",
     "text": [
      "Epoch 1/100\n",
      "24/24 [==============================] - 2s 30ms/step - loss: 2.3081 - accuracy: 0.1333 - val_loss: 2.2597 - val_accuracy: 0.2140\n",
      "Epoch 2/100\n",
      "24/24 [==============================] - 0s 13ms/step - loss: 2.2444 - accuracy: 0.2743 - val_loss: 2.2251 - val_accuracy: 0.3240\n",
      "Epoch 3/100\n",
      "24/24 [==============================] - 0s 14ms/step - loss: 2.2087 - accuracy: 0.3600 - val_loss: 2.1934 - val_accuracy: 0.4140\n",
      "Epoch 4/100\n",
      "24/24 [==============================] - 0s 13ms/step - loss: 2.1753 - accuracy: 0.4540 - val_loss: 2.1617 - val_accuracy: 0.3940\n",
      "Epoch 5/100\n",
      "24/24 [==============================] - 0s 14ms/step - loss: 2.1416 - accuracy: 0.4510 - val_loss: 2.1331 - val_accuracy: 0.4280\n",
      "Epoch 6/100\n",
      "24/24 [==============================] - 0s 13ms/step - loss: 2.1093 - accuracy: 0.4800 - val_loss: 2.1010 - val_accuracy: 0.4740\n",
      "Epoch 7/100\n",
      "24/24 [==============================] - 0s 14ms/step - loss: 2.0753 - accuracy: 0.5187 - val_loss: 2.0722 - val_accuracy: 0.5000\n",
      "Epoch 8/100\n",
      "24/24 [==============================] - 0s 14ms/step - loss: 2.0406 - accuracy: 0.5333 - val_loss: 2.0431 - val_accuracy: 0.5260\n",
      "Epoch 9/100\n",
      "24/24 [==============================] - 0s 14ms/step - loss: 2.0048 - accuracy: 0.5527 - val_loss: 2.0110 - val_accuracy: 0.5100\n",
      "Epoch 10/100\n",
      "24/24 [==============================] - 0s 13ms/step - loss: 1.9684 - accuracy: 0.5653 - val_loss: 1.9740 - val_accuracy: 0.5560\n",
      "Epoch 11/100\n",
      "24/24 [==============================] - 0s 13ms/step - loss: 1.9308 - accuracy: 0.5850 - val_loss: 1.9418 - val_accuracy: 0.5160\n",
      "Epoch 12/100\n",
      "24/24 [==============================] - 0s 13ms/step - loss: 1.8940 - accuracy: 0.5840 - val_loss: 1.9102 - val_accuracy: 0.5340\n",
      "Epoch 13/100\n",
      "24/24 [==============================] - 0s 13ms/step - loss: 1.8558 - accuracy: 0.5950 - val_loss: 1.8751 - val_accuracy: 0.5620\n",
      "Epoch 14/100\n",
      "24/24 [==============================] - 0s 14ms/step - loss: 1.8176 - accuracy: 0.6073 - val_loss: 1.8379 - val_accuracy: 0.5340\n",
      "Epoch 15/100\n",
      "24/24 [==============================] - 0s 13ms/step - loss: 1.7770 - accuracy: 0.6110 - val_loss: 1.8034 - val_accuracy: 0.5720\n",
      "Epoch 16/100\n",
      "24/24 [==============================] - 0s 14ms/step - loss: 1.7367 - accuracy: 0.6210 - val_loss: 1.7635 - val_accuracy: 0.5720\n",
      "Epoch 17/100\n",
      "24/24 [==============================] - 0s 13ms/step - loss: 1.6957 - accuracy: 0.6317 - val_loss: 1.7300 - val_accuracy: 0.5980\n",
      "Epoch 18/100\n",
      "24/24 [==============================] - 0s 14ms/step - loss: 1.6542 - accuracy: 0.6407 - val_loss: 1.6921 - val_accuracy: 0.5880\n",
      "Epoch 19/100\n",
      "24/24 [==============================] - 0s 13ms/step - loss: 1.6123 - accuracy: 0.6433 - val_loss: 1.6517 - val_accuracy: 0.5900\n",
      "Epoch 20/100\n",
      "24/24 [==============================] - 0s 14ms/step - loss: 1.5704 - accuracy: 0.6440 - val_loss: 1.6182 - val_accuracy: 0.6120\n",
      "Epoch 21/100\n",
      "24/24 [==============================] - 0s 13ms/step - loss: 1.5314 - accuracy: 0.6610 - val_loss: 1.5760 - val_accuracy: 0.6080\n",
      "Epoch 22/100\n",
      "24/24 [==============================] - 0s 13ms/step - loss: 1.4911 - accuracy: 0.6733 - val_loss: 1.5427 - val_accuracy: 0.6060\n",
      "Epoch 23/100\n",
      "24/24 [==============================] - 0s 13ms/step - loss: 1.4514 - accuracy: 0.6720 - val_loss: 1.5063 - val_accuracy: 0.6280\n",
      "Epoch 24/100\n",
      "24/24 [==============================] - 0s 14ms/step - loss: 1.4132 - accuracy: 0.6793 - val_loss: 1.4759 - val_accuracy: 0.6260\n",
      "Epoch 25/100\n",
      "24/24 [==============================] - 0s 13ms/step - loss: 1.3769 - accuracy: 0.6840 - val_loss: 1.4436 - val_accuracy: 0.6280\n",
      "Epoch 26/100\n",
      "24/24 [==============================] - 0s 13ms/step - loss: 1.3394 - accuracy: 0.6940 - val_loss: 1.3992 - val_accuracy: 0.6620\n",
      "Epoch 27/100\n",
      "24/24 [==============================] - 0s 13ms/step - loss: 1.3043 - accuracy: 0.7153 - val_loss: 1.3721 - val_accuracy: 0.6360\n",
      "Epoch 28/100\n",
      "24/24 [==============================] - 0s 13ms/step - loss: 1.2695 - accuracy: 0.7047 - val_loss: 1.3333 - val_accuracy: 0.6940\n",
      "Epoch 29/100\n",
      "24/24 [==============================] - 0s 13ms/step - loss: 1.2345 - accuracy: 0.7270 - val_loss: 1.3112 - val_accuracy: 0.6580\n",
      "Epoch 30/100\n",
      "24/24 [==============================] - 0s 14ms/step - loss: 1.2025 - accuracy: 0.7197 - val_loss: 1.2758 - val_accuracy: 0.6900\n",
      "Epoch 31/100\n",
      "24/24 [==============================] - 0s 13ms/step - loss: 1.1710 - accuracy: 0.7400 - val_loss: 1.2453 - val_accuracy: 0.7060\n",
      "Epoch 32/100\n",
      "24/24 [==============================] - 0s 13ms/step - loss: 1.1401 - accuracy: 0.7380 - val_loss: 1.2274 - val_accuracy: 0.6820\n",
      "Epoch 33/100\n",
      "24/24 [==============================] - 0s 13ms/step - loss: 1.1130 - accuracy: 0.7513 - val_loss: 1.1960 - val_accuracy: 0.7020\n",
      "Epoch 34/100\n",
      "24/24 [==============================] - 0s 13ms/step - loss: 1.0847 - accuracy: 0.7563 - val_loss: 1.1689 - val_accuracy: 0.7020\n",
      "Epoch 35/100\n",
      "24/24 [==============================] - 0s 14ms/step - loss: 1.0573 - accuracy: 0.7637 - val_loss: 1.1454 - val_accuracy: 0.7080\n",
      "Epoch 36/100\n",
      "24/24 [==============================] - 0s 13ms/step - loss: 1.0322 - accuracy: 0.7700 - val_loss: 1.1232 - val_accuracy: 0.7040\n",
      "Epoch 37/100\n",
      "24/24 [==============================] - 0s 14ms/step - loss: 1.0076 - accuracy: 0.7753 - val_loss: 1.0960 - val_accuracy: 0.7380\n",
      "Epoch 38/100\n",
      "24/24 [==============================] - 0s 13ms/step - loss: 0.9830 - accuracy: 0.7843 - val_loss: 1.0781 - val_accuracy: 0.7360\n",
      "Epoch 39/100\n",
      "24/24 [==============================] - 0s 13ms/step - loss: 0.9610 - accuracy: 0.7907 - val_loss: 1.0507 - val_accuracy: 0.7220\n",
      "Epoch 40/100\n",
      "24/24 [==============================] - 0s 13ms/step - loss: 0.9384 - accuracy: 0.7920 - val_loss: 1.0322 - val_accuracy: 0.7580\n",
      "Epoch 41/100\n",
      "24/24 [==============================] - 0s 13ms/step - loss: 0.9174 - accuracy: 0.7973 - val_loss: 1.0157 - val_accuracy: 0.7540\n",
      "Epoch 42/100\n",
      "24/24 [==============================] - 0s 14ms/step - loss: 0.8982 - accuracy: 0.8003 - val_loss: 0.9971 - val_accuracy: 0.7380\n",
      "Epoch 43/100\n",
      "24/24 [==============================] - 0s 12ms/step - loss: 0.8792 - accuracy: 0.8020 - val_loss: 0.9724 - val_accuracy: 0.7720\n",
      "Epoch 44/100\n",
      "24/24 [==============================] - 0s 13ms/step - loss: 0.8604 - accuracy: 0.8120 - val_loss: 0.9572 - val_accuracy: 0.7720\n",
      "Epoch 45/100\n",
      "24/24 [==============================] - 0s 14ms/step - loss: 0.8435 - accuracy: 0.8177 - val_loss: 0.9415 - val_accuracy: 0.7460\n",
      "Epoch 46/100\n",
      "24/24 [==============================] - 0s 14ms/step - loss: 0.8267 - accuracy: 0.8167 - val_loss: 0.9247 - val_accuracy: 0.7600\n",
      "Epoch 47/100\n",
      "24/24 [==============================] - 0s 14ms/step - loss: 0.8106 - accuracy: 0.8210 - val_loss: 0.9090 - val_accuracy: 0.7660\n",
      "Epoch 48/100\n",
      "24/24 [==============================] - 0s 12ms/step - loss: 0.7939 - accuracy: 0.8223 - val_loss: 0.8961 - val_accuracy: 0.7700\n",
      "Epoch 49/100\n",
      "24/24 [==============================] - 0s 13ms/step - loss: 0.7785 - accuracy: 0.8287 - val_loss: 0.8798 - val_accuracy: 0.7820\n",
      "Epoch 50/100\n",
      "24/24 [==============================] - 0s 13ms/step - loss: 0.7651 - accuracy: 0.8283 - val_loss: 0.8668 - val_accuracy: 0.7940\n",
      "Epoch 51/100\n",
      "24/24 [==============================] - 0s 13ms/step - loss: 0.7519 - accuracy: 0.8303 - val_loss: 0.8540 - val_accuracy: 0.7780\n",
      "Epoch 52/100\n",
      "24/24 [==============================] - 0s 13ms/step - loss: 0.7385 - accuracy: 0.8340 - val_loss: 0.8420 - val_accuracy: 0.7740\n",
      "Epoch 53/100\n",
      "24/24 [==============================] - 0s 13ms/step - loss: 0.7248 - accuracy: 0.8367 - val_loss: 0.8306 - val_accuracy: 0.8060\n",
      "Epoch 54/100\n",
      "24/24 [==============================] - 0s 14ms/step - loss: 0.7134 - accuracy: 0.8347 - val_loss: 0.8158 - val_accuracy: 0.7940\n",
      "Epoch 55/100\n",
      "24/24 [==============================] - 0s 14ms/step - loss: 0.7017 - accuracy: 0.8433 - val_loss: 0.8081 - val_accuracy: 0.7900\n",
      "Epoch 56/100\n",
      "24/24 [==============================] - 0s 13ms/step - loss: 0.6909 - accuracy: 0.8417 - val_loss: 0.7939 - val_accuracy: 0.7840\n",
      "Epoch 57/100\n",
      "24/24 [==============================] - 0s 13ms/step - loss: 0.6792 - accuracy: 0.8403 - val_loss: 0.7817 - val_accuracy: 0.7960\n",
      "Epoch 58/100\n",
      "24/24 [==============================] - 0s 14ms/step - loss: 0.6696 - accuracy: 0.8443 - val_loss: 0.7725 - val_accuracy: 0.7940\n",
      "Epoch 59/100\n",
      "24/24 [==============================] - 0s 14ms/step - loss: 0.6599 - accuracy: 0.8450 - val_loss: 0.7644 - val_accuracy: 0.7980\n",
      "Epoch 60/100\n",
      "24/24 [==============================] - 0s 13ms/step - loss: 0.6502 - accuracy: 0.8490 - val_loss: 0.7527 - val_accuracy: 0.7980\n",
      "Epoch 61/100\n",
      "24/24 [==============================] - 0s 14ms/step - loss: 0.6411 - accuracy: 0.8503 - val_loss: 0.7457 - val_accuracy: 0.8100\n",
      "Epoch 62/100\n",
      "24/24 [==============================] - 0s 14ms/step - loss: 0.6328 - accuracy: 0.8513 - val_loss: 0.7356 - val_accuracy: 0.8000\n",
      "Epoch 63/100\n",
      "24/24 [==============================] - 0s 14ms/step - loss: 0.6234 - accuracy: 0.8503 - val_loss: 0.7283 - val_accuracy: 0.8000\n",
      "Epoch 64/100\n",
      "24/24 [==============================] - 0s 14ms/step - loss: 0.6153 - accuracy: 0.8507 - val_loss: 0.7203 - val_accuracy: 0.8020\n",
      "Epoch 65/100\n",
      "24/24 [==============================] - 0s 14ms/step - loss: 0.6077 - accuracy: 0.8567 - val_loss: 0.7180 - val_accuracy: 0.8000\n",
      "Epoch 66/100\n",
      "24/24 [==============================] - 0s 13ms/step - loss: 0.6008 - accuracy: 0.8507 - val_loss: 0.7076 - val_accuracy: 0.8160\n",
      "Epoch 67/100\n",
      "24/24 [==============================] - 0s 14ms/step - loss: 0.5931 - accuracy: 0.8603 - val_loss: 0.6954 - val_accuracy: 0.7940\n",
      "Epoch 68/100\n",
      "24/24 [==============================] - 0s 13ms/step - loss: 0.5854 - accuracy: 0.8580 - val_loss: 0.6933 - val_accuracy: 0.8080\n",
      "Epoch 69/100\n",
      "24/24 [==============================] - 0s 14ms/step - loss: 0.5792 - accuracy: 0.8580 - val_loss: 0.6816 - val_accuracy: 0.8120\n",
      "Epoch 70/100\n",
      "24/24 [==============================] - 0s 13ms/step - loss: 0.5722 - accuracy: 0.8617 - val_loss: 0.6768 - val_accuracy: 0.8260\n",
      "Epoch 71/100\n",
      "24/24 [==============================] - 0s 14ms/step - loss: 0.5661 - accuracy: 0.8603 - val_loss: 0.6708 - val_accuracy: 0.8100\n",
      "Epoch 72/100\n",
      "24/24 [==============================] - 0s 13ms/step - loss: 0.5609 - accuracy: 0.8653 - val_loss: 0.6635 - val_accuracy: 0.8120\n",
      "Epoch 73/100\n",
      "24/24 [==============================] - 0s 13ms/step - loss: 0.5537 - accuracy: 0.8643 - val_loss: 0.6561 - val_accuracy: 0.8080\n",
      "Epoch 74/100\n",
      "24/24 [==============================] - 0s 13ms/step - loss: 0.5484 - accuracy: 0.8677 - val_loss: 0.6635 - val_accuracy: 0.8100\n",
      "Epoch 75/100\n",
      "24/24 [==============================] - 0s 13ms/step - loss: 0.5433 - accuracy: 0.8660 - val_loss: 0.6480 - val_accuracy: 0.8180\n",
      "Epoch 76/100\n",
      "24/24 [==============================] - 0s 14ms/step - loss: 0.5373 - accuracy: 0.8657 - val_loss: 0.6468 - val_accuracy: 0.8200\n",
      "Epoch 77/100\n",
      "24/24 [==============================] - 0s 13ms/step - loss: 0.5335 - accuracy: 0.8650 - val_loss: 0.6365 - val_accuracy: 0.8060\n",
      "Epoch 78/100\n",
      "24/24 [==============================] - 0s 13ms/step - loss: 0.5268 - accuracy: 0.8693 - val_loss: 0.6280 - val_accuracy: 0.8240\n",
      "Epoch 79/100\n",
      "24/24 [==============================] - 0s 13ms/step - loss: 0.5220 - accuracy: 0.8743 - val_loss: 0.6309 - val_accuracy: 0.8200\n",
      "Epoch 80/100\n",
      "24/24 [==============================] - 0s 13ms/step - loss: 0.5169 - accuracy: 0.8717 - val_loss: 0.6236 - val_accuracy: 0.8260\n",
      "Epoch 81/100\n",
      "24/24 [==============================] - 0s 13ms/step - loss: 0.5130 - accuracy: 0.8740 - val_loss: 0.6148 - val_accuracy: 0.8220\n",
      "Epoch 82/100\n",
      "24/24 [==============================] - 0s 13ms/step - loss: 0.5071 - accuracy: 0.8727 - val_loss: 0.6133 - val_accuracy: 0.8360\n",
      "Epoch 83/100\n",
      "24/24 [==============================] - 0s 14ms/step - loss: 0.5032 - accuracy: 0.8773 - val_loss: 0.6108 - val_accuracy: 0.8240\n",
      "Epoch 84/100\n",
      "24/24 [==============================] - 0s 14ms/step - loss: 0.5002 - accuracy: 0.8777 - val_loss: 0.6025 - val_accuracy: 0.8200\n",
      "Epoch 85/100\n",
      "24/24 [==============================] - 0s 13ms/step - loss: 0.4955 - accuracy: 0.8733 - val_loss: 0.5953 - val_accuracy: 0.8300\n",
      "Epoch 86/100\n",
      "24/24 [==============================] - 0s 13ms/step - loss: 0.4913 - accuracy: 0.8773 - val_loss: 0.5925 - val_accuracy: 0.8320\n",
      "Epoch 87/100\n",
      "24/24 [==============================] - 0s 13ms/step - loss: 0.4877 - accuracy: 0.8783 - val_loss: 0.5944 - val_accuracy: 0.8200\n",
      "Epoch 88/100\n",
      "24/24 [==============================] - 0s 13ms/step - loss: 0.4840 - accuracy: 0.8770 - val_loss: 0.5899 - val_accuracy: 0.8360\n",
      "Epoch 89/100\n",
      "24/24 [==============================] - 0s 13ms/step - loss: 0.4795 - accuracy: 0.8820 - val_loss: 0.5817 - val_accuracy: 0.8280\n",
      "Epoch 90/100\n",
      "24/24 [==============================] - 0s 13ms/step - loss: 0.4764 - accuracy: 0.8790 - val_loss: 0.5774 - val_accuracy: 0.8300\n",
      "Epoch 91/100\n",
      "24/24 [==============================] - 0s 13ms/step - loss: 0.4722 - accuracy: 0.8803 - val_loss: 0.5743 - val_accuracy: 0.8280\n",
      "Epoch 92/100\n",
      "24/24 [==============================] - 0s 14ms/step - loss: 0.4693 - accuracy: 0.8813 - val_loss: 0.5729 - val_accuracy: 0.8260\n",
      "Epoch 93/100\n",
      "24/24 [==============================] - 0s 13ms/step - loss: 0.4656 - accuracy: 0.8810 - val_loss: 0.5635 - val_accuracy: 0.8440\n",
      "Epoch 94/100\n",
      "24/24 [==============================] - 0s 13ms/step - loss: 0.4625 - accuracy: 0.8850 - val_loss: 0.5627 - val_accuracy: 0.8380\n",
      "Epoch 95/100\n",
      "24/24 [==============================] - 0s 13ms/step - loss: 0.4596 - accuracy: 0.8833 - val_loss: 0.5601 - val_accuracy: 0.8420\n",
      "Epoch 96/100\n",
      "24/24 [==============================] - 0s 13ms/step - loss: 0.4572 - accuracy: 0.8840 - val_loss: 0.5547 - val_accuracy: 0.8440\n",
      "Epoch 97/100\n",
      "24/24 [==============================] - 0s 13ms/step - loss: 0.4528 - accuracy: 0.8850 - val_loss: 0.5549 - val_accuracy: 0.8420\n",
      "Epoch 98/100\n",
      "24/24 [==============================] - 0s 13ms/step - loss: 0.4501 - accuracy: 0.8843 - val_loss: 0.5486 - val_accuracy: 0.8420\n",
      "Epoch 99/100\n",
      "24/24 [==============================] - 0s 14ms/step - loss: 0.4470 - accuracy: 0.8867 - val_loss: 0.5467 - val_accuracy: 0.8380\n",
      "Epoch 100/100\n",
      "24/24 [==============================] - 0s 13ms/step - loss: 0.4439 - accuracy: 0.8847 - val_loss: 0.5448 - val_accuracy: 0.8460\n",
      "16/16 [==============================] - 0s 6ms/step - loss: 0.5448 - accuracy: 0.8460\n"
     ]
    }
   ],
   "source": [
    "history = model4.fit(x_train, y_train, batch_size=128, epochs=100, verbose=True, validation_data= (x_test, y_test)) #validation_split=.1\n",
    "loss, accuracy  = model4.evaluate(x_test, y_test, verbose=True)"
   ]
  },
  {
   "cell_type": "code",
   "execution_count": 47,
   "metadata": {
    "colab": {
     "base_uri": "https://localhost:8080/",
     "height": 297
    },
    "id": "-OSLPGeGkam3",
    "outputId": "a72e4c58-58d2-4a42-ec3e-5fb26e40119d"
   },
   "outputs": [
    {
     "data": {
      "image/png": "[encoded data removed]",
      "text/plain": [
       "<Figure size 432x288 with 2 Axes>"
      ]
     },
     "metadata": {
      "needs_background": "light"
     },
     "output_type": "display_data"
    }
   ],
   "source": [
    "fig = plt.figure()\n",
    "plt.subplot(2,1,1)\n",
    "plt.plot(history.history['accuracy'])\n",
    "plt.plot(history.history['val_accuracy'])\n",
    "plt.title('model accuracy')\n",
    "plt.ylabel('accuracy')\n",
    "plt.xlabel('epoch')\n",
    "plt.legend(['train', 'test'], loc='lower right')\n",
    "\n",
    "plt.subplot(2,1,2)\n",
    "plt.plot(history.history['loss'])\n",
    "plt.plot(history.history['val_loss'])\n",
    "plt.title('model loss')\n",
    "plt.ylabel('loss')\n",
    "plt.xlabel('epoch')\n",
    "plt.legend(['train', 'test'], loc='upper right')\n",
    "\n",
    "plt.tight_layout()"
   ]
  },
  {
   "cell_type": "markdown",
   "metadata": {
    "id": "TNnH_2yOkam4"
   },
   "source": [
    "##  Model Evaluation"
   ]
  },
  {
   "cell_type": "code",
   "execution_count": 48,
   "metadata": {
    "colab": {
     "base_uri": "https://localhost:8080/"
    },
    "id": "105_qOVTkam5",
    "outputId": "d7a4c74b-e080-4637-80d0-465cab8426ef"
   },
   "outputs": [
    {
     "name": "stdout",
     "output_type": "stream",
     "text": [
      "94/94 - 1s - loss: 0.4414 - accuracy: 0.8877 - 508ms/epoch - 5ms/step\n",
      "Train Loss 0.441430002450943\n",
      "Train Accuracy 0.887666642665863\n"
     ]
    }
   ],
   "source": [
    "loss_and_metrics = model4.evaluate(x_train, y_train, verbose=2)\n",
    "\n",
    "print(\"Train Loss\", loss_and_metrics[0])\n",
    "print(\"Train Accuracy\", loss_and_metrics[1])"
   ]
  },
  {
   "cell_type": "code",
   "execution_count": 49,
   "metadata": {
    "colab": {
     "base_uri": "https://localhost:8080/"
    },
    "id": "OBwNv-TAkam5",
    "outputId": "875a3a84-d5d4-4c87-cd86-2256fccccc46"
   },
   "outputs": [
    {
     "name": "stdout",
     "output_type": "stream",
     "text": [
      "16/16 - 0s - loss: 0.5448 - accuracy: 0.8460 - 118ms/epoch - 7ms/step\n",
      "Test Loss 0.5447758436203003\n",
      "Test Accuracy 0.8460000157356262\n"
     ]
    }
   ],
   "source": [
    "loss_and_metrics = model4.evaluate(x_test, y_test, verbose=2)\n",
    "\n",
    "print(\"Test Loss\", loss_and_metrics[0])\n",
    "print(\"Test Accuracy\", loss_and_metrics[1])"
   ]
  },
  {
   "cell_type": "markdown",
   "metadata": {
    "id": "eYOUJ96Akam6"
   },
   "source": [
    "## 5. Network with 2 layers and ReLU as an activation func for 1 layer and ADAM optimiser"
   ]
  },
  {
   "cell_type": "code",
   "execution_count": 50,
   "metadata": {
    "id": "mumRyNaFkam6"
   },
   "outputs": [],
   "source": [
    "model5= Sequential()"
   ]
  },
  {
   "cell_type": "code",
   "execution_count": 51,
   "metadata": {
    "colab": {
     "base_uri": "https://localhost:8080/"
    },
    "id": "R41toANtkam6",
    "outputId": "d71edb97-abb1-4fab-c0ff-cace0bc0d69d"
   },
   "outputs": [
    {
     "name": "stdout",
     "output_type": "stream",
     "text": [
      "Model: \"sequential_4\"\n",
      "_________________________________________________________________\n",
      " Layer (type)                Output Shape              Param #   \n",
      "=================================================================\n",
      " dense_12 (Dense)            (None, 512)               401920    \n",
      "                                                                 \n",
      " dense_13 (Dense)            (None, 100)               51300     \n",
      "                                                                 \n",
      " dense_14 (Dense)            (None, 10)                1010      \n",
      "                                                                 \n",
      "=================================================================\n",
      "Total params: 454230 (1.73 MB)\n",
      "Trainable params: 454230 (1.73 MB)\n",
      "Non-trainable params: 0 (0.00 Byte)\n",
      "_________________________________________________________________\n"
     ]
    }
   ],
   "source": [
    "model5.add(Dense(512, input_shape = (784,), activation= 'sigmoid'))\n",
    "model5.add(Dense(100, activation = 'relu'))\n",
    "model5.add(Dense(n_classes, activation = 'softmax'))\n",
    "model5.compile(optimizer=\"adam\", loss = 'categorical_crossentropy', metrics = ['accuracy'])\n",
    "model5.summary()"
   ]
  },
  {
   "cell_type": "code",
   "execution_count": 52,
   "metadata": {
    "colab": {
     "base_uri": "https://localhost:8080/"
    },
    "id": "JtotS8hlkam7",
    "outputId": "b5560dbf-88fe-4d31-cbb5-2bc389462f66"
   },
   "outputs": [
    {
     "name": "stdout",
     "output_type": "stream",
     "text": [
      "Epoch 1/10\n",
      "24/24 [==============================] - 2s 33ms/step - loss: 1.6669 - accuracy: 0.5350 - val_loss: 1.1549 - val_accuracy: 0.6980\n",
      "Epoch 2/10\n",
      "24/24 [==============================] - 0s 18ms/step - loss: 0.7917 - accuracy: 0.8183 - val_loss: 0.7020 - val_accuracy: 0.8080\n",
      "Epoch 3/10\n",
      "24/24 [==============================] - 0s 18ms/step - loss: 0.5245 - accuracy: 0.8660 - val_loss: 0.5457 - val_accuracy: 0.8520\n",
      "Epoch 4/10\n",
      "24/24 [==============================] - 0s 17ms/step - loss: 0.4139 - accuracy: 0.8870 - val_loss: 0.4550 - val_accuracy: 0.8740\n",
      "Epoch 5/10\n",
      "24/24 [==============================] - 0s 17ms/step - loss: 0.3514 - accuracy: 0.9067 - val_loss: 0.4151 - val_accuracy: 0.8800\n",
      "Epoch 6/10\n",
      "24/24 [==============================] - 0s 18ms/step - loss: 0.3175 - accuracy: 0.9080 - val_loss: 0.3672 - val_accuracy: 0.8980\n",
      "Epoch 7/10\n",
      "24/24 [==============================] - 0s 17ms/step - loss: 0.2811 - accuracy: 0.9223 - val_loss: 0.3682 - val_accuracy: 0.8960\n",
      "Epoch 8/10\n",
      "24/24 [==============================] - 0s 18ms/step - loss: 0.2578 - accuracy: 0.9253 - val_loss: 0.3443 - val_accuracy: 0.8980\n",
      "Epoch 9/10\n",
      "24/24 [==============================] - 0s 17ms/step - loss: 0.2348 - accuracy: 0.9327 - val_loss: 0.3448 - val_accuracy: 0.9000\n",
      "Epoch 10/10\n",
      "24/24 [==============================] - 0s 17ms/step - loss: 0.2216 - accuracy: 0.9393 - val_loss: 0.3353 - val_accuracy: 0.8960\n",
      "16/16 [==============================] - 0s 7ms/step - loss: 0.3353 - accuracy: 0.8960\n"
     ]
    }
   ],
   "source": [
    "history = model5.fit(x_train, y_train, batch_size=128, epochs=10, verbose=True, validation_data= (x_test, y_test)) #validation_split=.1\n",
    "loss, accuracy  = model5.evaluate(x_test, y_test, verbose=True)"
   ]
  },
  {
   "cell_type": "code",
   "execution_count": 53,
   "metadata": {
    "colab": {
     "base_uri": "https://localhost:8080/",
     "height": 297
    },
    "id": "dP48jpBjkam7",
    "outputId": "460d2681-0ef9-4c4b-af8c-07515047887e"
   },
   "outputs": [
    {
     "data": {
      "image/png": "[encoded data removed]",
      "text/plain": [
       "<Figure size 432x288 with 2 Axes>"
      ]
     },
     "metadata": {
      "needs_background": "light"
     },
     "output_type": "display_data"
    }
   ],
   "source": [
    "fig = plt.figure()\n",
    "plt.subplot(2,1,1)\n",
    "plt.plot(history.history['accuracy'])\n",
    "plt.plot(history.history['val_accuracy'])\n",
    "plt.title('model accuracy')\n",
    "plt.ylabel('accuracy')\n",
    "plt.xlabel('epoch')\n",
    "plt.legend(['train', 'test'], loc='lower right')\n",
    "\n",
    "plt.subplot(2,1,2)\n",
    "plt.plot(history.history['loss'])\n",
    "plt.plot(history.history['val_loss'])\n",
    "plt.title('model loss')\n",
    "plt.ylabel('loss')\n",
    "plt.xlabel('epoch')\n",
    "plt.legend(['train', 'test'], loc='upper right')\n",
    "\n",
    "plt.tight_layout()"
   ]
  },
  {
   "cell_type": "markdown",
   "metadata": {
    "id": "MFye9FxTkam8"
   },
   "source": [
    "##  Model Evaluation"
   ]
  },
  {
   "cell_type": "code",
   "execution_count": 54,
   "metadata": {
    "colab": {
     "base_uri": "https://localhost:8080/"
    },
    "id": "TVrvoUbIkam8",
    "outputId": "a7433cdd-5b00-489b-fb50-7b6bf805b055"
   },
   "outputs": [
    {
     "name": "stdout",
     "output_type": "stream",
     "text": [
      "94/94 - 0s - loss: 0.2050 - accuracy: 0.9437 - 484ms/epoch - 5ms/step\n",
      "Train Loss 0.20501694083213806\n",
      "Train Accuracy 0.9436666369438171\n"
     ]
    }
   ],
   "source": [
    "loss_and_metrics = model5.evaluate(x_train, y_train, verbose=2)\n",
    "\n",
    "print(\"Train Loss\", loss_and_metrics[0])\n",
    "print(\"Train Accuracy\", loss_and_metrics[1])"
   ]
  },
  {
   "cell_type": "code",
   "execution_count": 55,
   "metadata": {
    "colab": {
     "base_uri": "https://localhost:8080/"
    },
    "id": "5W5ExbA0kam9",
    "outputId": "f6196df1-8c09-4226-9085-5b293cd47d6a"
   },
   "outputs": [
    {
     "name": "stdout",
     "output_type": "stream",
     "text": [
      "16/16 - 0s - loss: 0.3353 - accuracy: 0.8960 - 120ms/epoch - 7ms/step\n",
      "Test Loss 0.33531454205513\n",
      "Test Accuracy 0.8960000276565552\n"
     ]
    }
   ],
   "source": [
    "loss_and_metrics = model5.evaluate(x_test, y_test, verbose=2)\n",
    "\n",
    "print(\"Test Loss\", loss_and_metrics[0])\n",
    "print(\"Test Accuracy\", loss_and_metrics[1])"
   ]
  },
  {
   "cell_type": "markdown",
   "metadata": {
    "id": "TmLecpwNkam9"
   },
   "source": [
    "## 6. Network with BatchNormalization"
   ]
  },
  {
   "cell_type": "code",
   "execution_count": 56,
   "metadata": {
    "id": "zm5nnF0kkam9"
   },
   "outputs": [],
   "source": [
    "model6= Sequential()"
   ]
  },
  {
   "cell_type": "code",
   "execution_count": 57,
   "metadata": {
    "colab": {
     "base_uri": "https://localhost:8080/"
    },
    "id": "lh7FWUmrkam-",
    "outputId": "9fbeb073-6da5-44bd-a0c7-9c7b9a25fc1a"
   },
   "outputs": [
    {
     "name": "stdout",
     "output_type": "stream",
     "text": [
      "Model: \"sequential_5\"\n",
      "_________________________________________________________________\n",
      " Layer (type)                Output Shape              Param #   \n",
      "=================================================================\n",
      " dense_15 (Dense)            (None, 512)               401920    \n",
      "                                                                 \n",
      " batch_normalization (Batch  (None, 512)               2048      \n",
      " Normalization)                                                  \n",
      "                                                                 \n",
      " dense_16 (Dense)            (None, 100)               51300     \n",
      "                                                                 \n",
      " batch_normalization_1 (Bat  (None, 100)               400       \n",
      " chNormalization)                                                \n",
      "                                                                 \n",
      " dense_17 (Dense)            (None, 10)                1010      \n",
      "                                                                 \n",
      "=================================================================\n",
      "Total params: 456678 (1.74 MB)\n",
      "Trainable params: 455454 (1.74 MB)\n",
      "Non-trainable params: 1224 (4.78 KB)\n",
      "_________________________________________________________________\n"
     ]
    }
   ],
   "source": [
    "model6.add(Dense(512, input_shape = (784,), activation= 'sigmoid'))\n",
    "model6.add(BatchNormalization())\n",
    "model6.add(Dense(100, activation = 'relu'))\n",
    "model6.add(BatchNormalization())\n",
    "model6.add(Dense(n_classes, activation = 'softmax'))\n",
    "model6.compile(optimizer=\"adam\", loss = 'categorical_crossentropy', metrics = ['accuracy'])\n",
    "model6.summary()"
   ]
  },
  {
   "cell_type": "code",
   "execution_count": 58,
   "metadata": {
    "colab": {
     "base_uri": "https://localhost:8080/"
    },
    "id": "dtdG5tBokam_",
    "outputId": "f83885a0-9b83-4cfc-f6cb-7415dcef2235"
   },
   "outputs": [
    {
     "name": "stdout",
     "output_type": "stream",
     "text": [
      "Epoch 1/100\n",
      "24/24 [==============================] - 4s 38ms/step - loss: 0.6773 - accuracy: 0.7947 - val_loss: 1.8431 - val_accuracy: 0.5120\n",
      "Epoch 2/100\n",
      "24/24 [==============================] - 0s 20ms/step - loss: 0.2292 - accuracy: 0.9413 - val_loss: 1.7790 - val_accuracy: 0.4080\n",
      "Epoch 3/100\n",
      "24/24 [==============================] - 0s 20ms/step - loss: 0.1592 - accuracy: 0.9640 - val_loss: 1.7562 - val_accuracy: 0.4220\n",
      "Epoch 4/100\n",
      "24/24 [==============================] - 0s 20ms/step - loss: 0.1150 - accuracy: 0.9817 - val_loss: 1.7344 - val_accuracy: 0.4740\n",
      "Epoch 5/100\n",
      "24/24 [==============================] - 0s 21ms/step - loss: 0.0796 - accuracy: 0.9903 - val_loss: 1.7033 - val_accuracy: 0.5180\n",
      "Epoch 6/100\n",
      "24/24 [==============================] - 1s 21ms/step - loss: 0.0623 - accuracy: 0.9933 - val_loss: 1.6319 - val_accuracy: 0.5820\n",
      "Epoch 7/100\n",
      "24/24 [==============================] - 0s 19ms/step - loss: 0.0468 - accuracy: 0.9967 - val_loss: 1.5506 - val_accuracy: 0.6040\n",
      "Epoch 8/100\n",
      "24/24 [==============================] - 0s 19ms/step - loss: 0.0350 - accuracy: 0.9997 - val_loss: 1.4258 - val_accuracy: 0.6760\n",
      "Epoch 9/100\n",
      "24/24 [==============================] - 0s 20ms/step - loss: 0.0296 - accuracy: 0.9997 - val_loss: 1.3091 - val_accuracy: 0.6940\n",
      "Epoch 10/100\n",
      "24/24 [==============================] - 0s 20ms/step - loss: 0.0228 - accuracy: 0.9997 - val_loss: 1.1723 - val_accuracy: 0.7500\n",
      "Epoch 11/100\n",
      "24/24 [==============================] - 0s 20ms/step - loss: 0.0179 - accuracy: 1.0000 - val_loss: 1.0211 - val_accuracy: 0.8180\n",
      "Epoch 12/100\n",
      "24/24 [==============================] - 0s 20ms/step - loss: 0.0154 - accuracy: 1.0000 - val_loss: 0.8788 - val_accuracy: 0.8680\n",
      "Epoch 13/100\n",
      "24/24 [==============================] - 0s 20ms/step - loss: 0.0126 - accuracy: 1.0000 - val_loss: 0.7466 - val_accuracy: 0.8840\n",
      "Epoch 14/100\n",
      "24/24 [==============================] - 0s 20ms/step - loss: 0.0111 - accuracy: 1.0000 - val_loss: 0.6095 - val_accuracy: 0.9060\n",
      "Epoch 15/100\n",
      "24/24 [==============================] - 0s 19ms/step - loss: 0.0100 - accuracy: 1.0000 - val_loss: 0.5247 - val_accuracy: 0.9080\n",
      "Epoch 16/100\n",
      "24/24 [==============================] - 0s 19ms/step - loss: 0.0097 - accuracy: 1.0000 - val_loss: 0.4342 - val_accuracy: 0.9280\n",
      "Epoch 17/100\n",
      "24/24 [==============================] - 0s 20ms/step - loss: 0.0083 - accuracy: 1.0000 - val_loss: 0.3765 - val_accuracy: 0.9260\n",
      "Epoch 18/100\n",
      "24/24 [==============================] - 0s 20ms/step - loss: 0.0071 - accuracy: 1.0000 - val_loss: 0.3285 - val_accuracy: 0.9300\n",
      "Epoch 19/100\n",
      "24/24 [==============================] - 1s 21ms/step - loss: 0.0073 - accuracy: 1.0000 - val_loss: 0.3024 - val_accuracy: 0.9360\n",
      "Epoch 20/100\n",
      "24/24 [==============================] - 0s 20ms/step - loss: 0.0057 - accuracy: 1.0000 - val_loss: 0.2792 - val_accuracy: 0.9360\n",
      "Epoch 21/100\n",
      "24/24 [==============================] - 0s 21ms/step - loss: 0.0046 - accuracy: 1.0000 - val_loss: 0.2714 - val_accuracy: 0.9380\n",
      "Epoch 22/100\n",
      "24/24 [==============================] - 1s 21ms/step - loss: 0.0043 - accuracy: 1.0000 - val_loss: 0.2609 - val_accuracy: 0.9380\n",
      "Epoch 23/100\n",
      "24/24 [==============================] - 1s 22ms/step - loss: 0.0038 - accuracy: 1.0000 - val_loss: 0.2609 - val_accuracy: 0.9400\n",
      "Epoch 24/100\n",
      "24/24 [==============================] - 1s 21ms/step - loss: 0.0037 - accuracy: 1.0000 - val_loss: 0.2592 - val_accuracy: 0.9300\n",
      "Epoch 25/100\n",
      "24/24 [==============================] - 1s 21ms/step - loss: 0.0035 - accuracy: 1.0000 - val_loss: 0.2608 - val_accuracy: 0.9340\n",
      "Epoch 26/100\n",
      "24/24 [==============================] - 0s 20ms/step - loss: 0.0029 - accuracy: 1.0000 - val_loss: 0.2583 - val_accuracy: 0.9340\n",
      "Epoch 27/100\n",
      "24/24 [==============================] - 0s 20ms/step - loss: 0.0027 - accuracy: 1.0000 - val_loss: 0.2634 - val_accuracy: 0.9340\n",
      "Epoch 28/100\n",
      "24/24 [==============================] - 0s 19ms/step - loss: 0.0026 - accuracy: 1.0000 - val_loss: 0.2681 - val_accuracy: 0.9380\n",
      "Epoch 29/100\n",
      "24/24 [==============================] - 0s 20ms/step - loss: 0.0027 - accuracy: 1.0000 - val_loss: 0.2714 - val_accuracy: 0.9320\n",
      "Epoch 30/100\n",
      "24/24 [==============================] - 0s 20ms/step - loss: 0.0025 - accuracy: 1.0000 - val_loss: 0.2743 - val_accuracy: 0.9320\n",
      "Epoch 31/100\n",
      "24/24 [==============================] - 0s 20ms/step - loss: 0.0024 - accuracy: 1.0000 - val_loss: 0.2737 - val_accuracy: 0.9360\n",
      "Epoch 32/100\n",
      "24/24 [==============================] - 0s 20ms/step - loss: 0.0021 - accuracy: 1.0000 - val_loss: 0.2783 - val_accuracy: 0.9320\n",
      "Epoch 33/100\n",
      "24/24 [==============================] - 0s 20ms/step - loss: 0.0020 - accuracy: 1.0000 - val_loss: 0.2810 - val_accuracy: 0.9320\n",
      "Epoch 34/100\n",
      "24/24 [==============================] - 0s 21ms/step - loss: 0.0018 - accuracy: 1.0000 - val_loss: 0.2845 - val_accuracy: 0.9320\n",
      "Epoch 35/100\n",
      "24/24 [==============================] - 0s 20ms/step - loss: 0.0017 - accuracy: 1.0000 - val_loss: 0.2832 - val_accuracy: 0.9280\n",
      "Epoch 36/100\n",
      "24/24 [==============================] - 0s 20ms/step - loss: 0.0016 - accuracy: 1.0000 - val_loss: 0.2823 - val_accuracy: 0.9300\n",
      "Epoch 37/100\n",
      "24/24 [==============================] - 0s 19ms/step - loss: 0.0015 - accuracy: 1.0000 - val_loss: 0.2885 - val_accuracy: 0.9240\n",
      "Epoch 38/100\n",
      "24/24 [==============================] - 0s 20ms/step - loss: 0.0014 - accuracy: 1.0000 - val_loss: 0.2914 - val_accuracy: 0.9300\n",
      "Epoch 39/100\n",
      "24/24 [==============================] - 0s 20ms/step - loss: 0.0014 - accuracy: 1.0000 - val_loss: 0.2897 - val_accuracy: 0.9260\n",
      "Epoch 40/100\n",
      "24/24 [==============================] - 0s 20ms/step - loss: 0.0014 - accuracy: 1.0000 - val_loss: 0.2911 - val_accuracy: 0.9360\n",
      "Epoch 41/100\n",
      "24/24 [==============================] - 0s 20ms/step - loss: 0.0014 - accuracy: 1.0000 - val_loss: 0.2865 - val_accuracy: 0.9280\n",
      "Epoch 42/100\n",
      "24/24 [==============================] - 0s 19ms/step - loss: 0.0013 - accuracy: 1.0000 - val_loss: 0.2938 - val_accuracy: 0.9260\n",
      "Epoch 43/100\n",
      "24/24 [==============================] - 0s 20ms/step - loss: 0.0011 - accuracy: 1.0000 - val_loss: 0.2974 - val_accuracy: 0.9280\n",
      "Epoch 44/100\n",
      "24/24 [==============================] - 0s 20ms/step - loss: 0.0011 - accuracy: 1.0000 - val_loss: 0.3036 - val_accuracy: 0.9260\n",
      "Epoch 45/100\n",
      "24/24 [==============================] - 0s 19ms/step - loss: 0.0011 - accuracy: 1.0000 - val_loss: 0.3005 - val_accuracy: 0.9300\n",
      "Epoch 46/100\n",
      "24/24 [==============================] - 0s 20ms/step - loss: 0.0011 - accuracy: 1.0000 - val_loss: 0.3033 - val_accuracy: 0.9360\n",
      "Epoch 47/100\n",
      "24/24 [==============================] - 0s 19ms/step - loss: 9.9827e-04 - accuracy: 1.0000 - val_loss: 0.3059 - val_accuracy: 0.9240\n",
      "Epoch 48/100\n",
      "24/24 [==============================] - 0s 19ms/step - loss: 0.0011 - accuracy: 1.0000 - val_loss: 0.3057 - val_accuracy: 0.9280\n",
      "Epoch 49/100\n",
      "24/24 [==============================] - 0s 19ms/step - loss: 9.2524e-04 - accuracy: 1.0000 - val_loss: 0.3085 - val_accuracy: 0.9260\n",
      "Epoch 50/100\n",
      "24/24 [==============================] - 0s 20ms/step - loss: 8.3909e-04 - accuracy: 1.0000 - val_loss: 0.3138 - val_accuracy: 0.9260\n",
      "Epoch 51/100\n",
      "24/24 [==============================] - 0s 19ms/step - loss: 8.2262e-04 - accuracy: 1.0000 - val_loss: 0.3119 - val_accuracy: 0.9200\n",
      "Epoch 52/100\n",
      "24/24 [==============================] - 0s 19ms/step - loss: 7.4152e-04 - accuracy: 1.0000 - val_loss: 0.3059 - val_accuracy: 0.9280\n",
      "Epoch 53/100\n",
      "24/24 [==============================] - 0s 20ms/step - loss: 8.1201e-04 - accuracy: 1.0000 - val_loss: 0.3103 - val_accuracy: 0.9280\n",
      "Epoch 54/100\n",
      "24/24 [==============================] - 0s 20ms/step - loss: 6.9657e-04 - accuracy: 1.0000 - val_loss: 0.3080 - val_accuracy: 0.9280\n",
      "Epoch 55/100\n",
      "24/24 [==============================] - 0s 20ms/step - loss: 6.2676e-04 - accuracy: 1.0000 - val_loss: 0.3102 - val_accuracy: 0.9260\n",
      "Epoch 56/100\n",
      "24/24 [==============================] - 0s 19ms/step - loss: 6.9138e-04 - accuracy: 1.0000 - val_loss: 0.3138 - val_accuracy: 0.9220\n",
      "Epoch 57/100\n",
      "24/24 [==============================] - 0s 20ms/step - loss: 6.8138e-04 - accuracy: 1.0000 - val_loss: 0.3099 - val_accuracy: 0.9220\n",
      "Epoch 58/100\n",
      "24/24 [==============================] - 0s 19ms/step - loss: 7.3010e-04 - accuracy: 1.0000 - val_loss: 0.3127 - val_accuracy: 0.9240\n",
      "Epoch 59/100\n",
      "24/24 [==============================] - 0s 20ms/step - loss: 6.0122e-04 - accuracy: 1.0000 - val_loss: 0.3183 - val_accuracy: 0.9200\n",
      "Epoch 60/100\n",
      "24/24 [==============================] - 0s 19ms/step - loss: 5.7659e-04 - accuracy: 1.0000 - val_loss: 0.3235 - val_accuracy: 0.9240\n",
      "Epoch 61/100\n",
      "24/24 [==============================] - 0s 20ms/step - loss: 5.6854e-04 - accuracy: 1.0000 - val_loss: 0.3211 - val_accuracy: 0.9260\n",
      "Epoch 62/100\n",
      "24/24 [==============================] - 0s 19ms/step - loss: 5.8443e-04 - accuracy: 1.0000 - val_loss: 0.3231 - val_accuracy: 0.9260\n",
      "Epoch 63/100\n",
      "24/24 [==============================] - 0s 20ms/step - loss: 5.5015e-04 - accuracy: 1.0000 - val_loss: 0.3215 - val_accuracy: 0.9240\n",
      "Epoch 64/100\n",
      "24/24 [==============================] - 1s 21ms/step - loss: 4.8542e-04 - accuracy: 1.0000 - val_loss: 0.3172 - val_accuracy: 0.9240\n",
      "Epoch 65/100\n",
      "24/24 [==============================] - 1s 21ms/step - loss: 4.9680e-04 - accuracy: 1.0000 - val_loss: 0.3241 - val_accuracy: 0.9240\n",
      "Epoch 66/100\n",
      "24/24 [==============================] - 1s 21ms/step - loss: 4.9090e-04 - accuracy: 1.0000 - val_loss: 0.3282 - val_accuracy: 0.9240\n",
      "Epoch 67/100\n",
      "24/24 [==============================] - 0s 21ms/step - loss: 4.8948e-04 - accuracy: 1.0000 - val_loss: 0.3290 - val_accuracy: 0.9240\n",
      "Epoch 68/100\n",
      "24/24 [==============================] - 1s 22ms/step - loss: 4.7707e-04 - accuracy: 1.0000 - val_loss: 0.3305 - val_accuracy: 0.9260\n",
      "Epoch 69/100\n",
      "24/24 [==============================] - 0s 21ms/step - loss: 4.2867e-04 - accuracy: 1.0000 - val_loss: 0.3297 - val_accuracy: 0.9280\n",
      "Epoch 70/100\n",
      "24/24 [==============================] - 0s 20ms/step - loss: 4.3981e-04 - accuracy: 1.0000 - val_loss: 0.3317 - val_accuracy: 0.9260\n",
      "Epoch 71/100\n",
      "24/24 [==============================] - 1s 21ms/step - loss: 4.0218e-04 - accuracy: 1.0000 - val_loss: 0.3274 - val_accuracy: 0.9240\n",
      "Epoch 72/100\n",
      "24/24 [==============================] - 0s 21ms/step - loss: 3.9263e-04 - accuracy: 1.0000 - val_loss: 0.3291 - val_accuracy: 0.9220\n",
      "Epoch 73/100\n",
      "24/24 [==============================] - 0s 21ms/step - loss: 3.8528e-04 - accuracy: 1.0000 - val_loss: 0.3272 - val_accuracy: 0.9240\n",
      "Epoch 74/100\n",
      "24/24 [==============================] - 0s 21ms/step - loss: 3.5228e-04 - accuracy: 1.0000 - val_loss: 0.3288 - val_accuracy: 0.9280\n",
      "Epoch 75/100\n",
      "24/24 [==============================] - 1s 21ms/step - loss: 3.7321e-04 - accuracy: 1.0000 - val_loss: 0.3308 - val_accuracy: 0.9260\n",
      "Epoch 76/100\n",
      "24/24 [==============================] - 0s 20ms/step - loss: 3.7309e-04 - accuracy: 1.0000 - val_loss: 0.3283 - val_accuracy: 0.9220\n",
      "Epoch 77/100\n",
      "24/24 [==============================] - 0s 21ms/step - loss: 3.5430e-04 - accuracy: 1.0000 - val_loss: 0.3270 - val_accuracy: 0.9280\n",
      "Epoch 78/100\n",
      "24/24 [==============================] - 1s 21ms/step - loss: 3.4947e-04 - accuracy: 1.0000 - val_loss: 0.3339 - val_accuracy: 0.9280\n",
      "Epoch 79/100\n",
      "24/24 [==============================] - 0s 20ms/step - loss: 3.7653e-04 - accuracy: 1.0000 - val_loss: 0.3353 - val_accuracy: 0.9280\n",
      "Epoch 80/100\n",
      "24/24 [==============================] - 1s 21ms/step - loss: 3.1414e-04 - accuracy: 1.0000 - val_loss: 0.3338 - val_accuracy: 0.9260\n",
      "Epoch 81/100\n",
      "24/24 [==============================] - 1s 22ms/step - loss: 3.5612e-04 - accuracy: 1.0000 - val_loss: 0.3298 - val_accuracy: 0.9280\n",
      "Epoch 82/100\n",
      "24/24 [==============================] - 0s 20ms/step - loss: 3.0608e-04 - accuracy: 1.0000 - val_loss: 0.3300 - val_accuracy: 0.9280\n",
      "Epoch 83/100\n",
      "24/24 [==============================] - 0s 20ms/step - loss: 2.9875e-04 - accuracy: 1.0000 - val_loss: 0.3288 - val_accuracy: 0.9280\n",
      "Epoch 84/100\n",
      "24/24 [==============================] - 0s 20ms/step - loss: 2.6832e-04 - accuracy: 1.0000 - val_loss: 0.3309 - val_accuracy: 0.9240\n",
      "Epoch 85/100\n",
      "24/24 [==============================] - 0s 20ms/step - loss: 2.8305e-04 - accuracy: 1.0000 - val_loss: 0.3328 - val_accuracy: 0.9280\n",
      "Epoch 86/100\n",
      "24/24 [==============================] - 0s 19ms/step - loss: 2.7433e-04 - accuracy: 1.0000 - val_loss: 0.3341 - val_accuracy: 0.9280\n",
      "Epoch 87/100\n",
      "24/24 [==============================] - 0s 19ms/step - loss: 2.5403e-04 - accuracy: 1.0000 - val_loss: 0.3373 - val_accuracy: 0.9220\n",
      "Epoch 88/100\n",
      "24/24 [==============================] - 0s 19ms/step - loss: 2.4869e-04 - accuracy: 1.0000 - val_loss: 0.3402 - val_accuracy: 0.9220\n",
      "Epoch 89/100\n",
      "24/24 [==============================] - 0s 20ms/step - loss: 2.5632e-04 - accuracy: 1.0000 - val_loss: 0.3440 - val_accuracy: 0.9200\n",
      "Epoch 90/100\n",
      "24/24 [==============================] - 1s 21ms/step - loss: 2.8209e-04 - accuracy: 1.0000 - val_loss: 0.3388 - val_accuracy: 0.9200\n",
      "Epoch 91/100\n",
      "24/24 [==============================] - 0s 21ms/step - loss: 2.7982e-04 - accuracy: 1.0000 - val_loss: 0.3391 - val_accuracy: 0.9200\n",
      "Epoch 92/100\n",
      "24/24 [==============================] - 0s 20ms/step - loss: 2.5165e-04 - accuracy: 1.0000 - val_loss: 0.3444 - val_accuracy: 0.9220\n",
      "Epoch 93/100\n",
      "24/24 [==============================] - 0s 20ms/step - loss: 2.4146e-04 - accuracy: 1.0000 - val_loss: 0.3452 - val_accuracy: 0.9240\n",
      "Epoch 94/100\n",
      "24/24 [==============================] - 0s 20ms/step - loss: 2.2328e-04 - accuracy: 1.0000 - val_loss: 0.3455 - val_accuracy: 0.9260\n",
      "Epoch 95/100\n",
      "24/24 [==============================] - 0s 21ms/step - loss: 2.2374e-04 - accuracy: 1.0000 - val_loss: 0.3475 - val_accuracy: 0.9240\n",
      "Epoch 96/100\n",
      "24/24 [==============================] - 0s 20ms/step - loss: 2.3191e-04 - accuracy: 1.0000 - val_loss: 0.3528 - val_accuracy: 0.9200\n",
      "Epoch 97/100\n",
      "24/24 [==============================] - 0s 21ms/step - loss: 2.0369e-04 - accuracy: 1.0000 - val_loss: 0.3452 - val_accuracy: 0.9260\n",
      "Epoch 98/100\n",
      "24/24 [==============================] - 0s 20ms/step - loss: 2.0900e-04 - accuracy: 1.0000 - val_loss: 0.3462 - val_accuracy: 0.9240\n",
      "Epoch 99/100\n",
      "24/24 [==============================] - 1s 21ms/step - loss: 1.9152e-04 - accuracy: 1.0000 - val_loss: 0.3448 - val_accuracy: 0.9240\n",
      "Epoch 100/100\n",
      "24/24 [==============================] - 0s 20ms/step - loss: 2.1138e-04 - accuracy: 1.0000 - val_loss: 0.3469 - val_accuracy: 0.9280\n",
      "16/16 [==============================] - 0s 6ms/step - loss: 0.3469 - accuracy: 0.9280\n"
     ]
    }
   ],
   "source": [
    "history = model6.fit(x_train, y_train, batch_size=128, epochs=100, verbose=True, validation_data= (x_test, y_test)) #validation_split=.1\n",
    "loss, accuracy  = model6.evaluate(x_test, y_test, verbose=True)"
   ]
  },
  {
   "cell_type": "code",
   "execution_count": 59,
   "metadata": {
    "colab": {
     "base_uri": "https://localhost:8080/",
     "height": 297
    },
    "id": "M2vdSpGSkam_",
    "outputId": "41d720c1-b485-467d-ca9e-65563ec2329f"
   },
   "outputs": [
    {
     "data": {
      "image/png": "[encoded data removed]",
      "text/plain": [
       "<Figure size 432x288 with 2 Axes>"
      ]
     },
     "metadata": {
      "needs_background": "light"
     },
     "output_type": "display_data"
    }
   ],
   "source": [
    "fig = plt.figure()\n",
    "plt.subplot(2,1,1)\n",
    "plt.plot(history.history['accuracy'])\n",
    "plt.plot(history.history['val_accuracy'])\n",
    "plt.title('model accuracy')\n",
    "plt.ylabel('accuracy')\n",
    "plt.xlabel('epoch')\n",
    "plt.legend(['train', 'test'], loc='lower right')\n",
    "\n",
    "plt.subplot(2,1,2)\n",
    "plt.plot(history.history['loss'])\n",
    "plt.plot(history.history['val_loss'])\n",
    "plt.title('model loss')\n",
    "plt.ylabel('loss')\n",
    "plt.xlabel('epoch')\n",
    "plt.legend(['train', 'test'], loc='upper right')\n",
    "\n",
    "plt.tight_layout()"
   ]
  },
  {
   "cell_type": "markdown",
   "metadata": {
    "id": "Yi_Xct0wkanA"
   },
   "source": [
    "## Model Evaluation"
   ]
  },
  {
   "cell_type": "code",
   "execution_count": 60,
   "metadata": {
    "colab": {
     "base_uri": "https://localhost:8080/"
    },
    "id": "4-9wf2l4kanB",
    "outputId": "1468724e-f07e-4712-f761-fd32c47d9ac2"
   },
   "outputs": [
    {
     "name": "stdout",
     "output_type": "stream",
     "text": [
      "94/94 - 1s - loss: 1.1085e-04 - accuracy: 1.0000 - 504ms/epoch - 5ms/step\n",
      "Train Loss 0.00011085023288615048\n",
      "Train Accuracy 1.0\n"
     ]
    }
   ],
   "source": [
    "loss_and_metrics = model6.evaluate(x_train, y_train, verbose=2)\n",
    "\n",
    "print(\"Train Loss\", loss_and_metrics[0])\n",
    "print(\"Train Accuracy\", loss_and_metrics[1])"
   ]
  },
  {
   "cell_type": "code",
   "execution_count": 61,
   "metadata": {
    "colab": {
     "base_uri": "https://localhost:8080/"
    },
    "id": "9BHUjMcLkanC",
    "outputId": "af0fdda3-2d10-4cfb-a215-536ac06bd535"
   },
   "outputs": [
    {
     "name": "stdout",
     "output_type": "stream",
     "text": [
      "16/16 - 0s - loss: 0.3469 - accuracy: 0.9280 - 134ms/epoch - 8ms/step\n",
      "Test Loss 0.34686487913131714\n",
      "Test Accuracy 0.9279999732971191\n"
     ]
    }
   ],
   "source": [
    "loss_and_metrics = model6.evaluate(x_test, y_test, verbose=2)\n",
    "\n",
    "print(\"Test Loss\", loss_and_metrics[0])\n",
    "print(\"Test Accuracy\", loss_and_metrics[1])"
   ]
  },
  {
   "cell_type": "markdown",
   "metadata": {
    "id": "1XMPlD_PkanC"
   },
   "source": [
    "## 7. Network with Dropout, L2 regularizer, kernel initializer"
   ]
  },
  {
   "cell_type": "code",
   "execution_count": 62,
   "metadata": {
    "id": "JDID0ZrqkanD"
   },
   "outputs": [],
   "source": [
    "model7= Sequential()"
   ]
  },
  {
   "cell_type": "code",
   "execution_count": 63,
   "metadata": {
    "colab": {
     "base_uri": "https://localhost:8080/"
    },
    "id": "9wgZ9aGBkanD",
    "outputId": "8ed45a2e-f816-4990-e118-8285c582b7a4"
   },
   "outputs": [
    {
     "name": "stdout",
     "output_type": "stream",
     "text": [
      "Model: \"sequential_6\"\n",
      "_________________________________________________________________\n",
      " Layer (type)                Output Shape              Param #   \n",
      "=================================================================\n",
      " dropout (Dropout)           (None, 784)               0         \n",
      "                                                                 \n",
      " dense_18 (Dense)            (None, 512)               401920    \n",
      "                                                                 \n",
      " batch_normalization_2 (Bat  (None, 512)               2048      \n",
      " chNormalization)                                                \n",
      "                                                                 \n",
      " dropout_1 (Dropout)         (None, 512)               0         \n",
      "                                                                 \n",
      " dense_19 (Dense)            (None, 100)               51300     \n",
      "                                                                 \n",
      " batch_normalization_3 (Bat  (None, 100)               400       \n",
      " chNormalization)                                                \n",
      "                                                                 \n",
      " dropout_2 (Dropout)         (None, 100)               0         \n",
      "                                                                 \n",
      " dense_20 (Dense)            (None, 10)                1010      \n",
      "                                                                 \n",
      "=================================================================\n",
      "Total params: 456678 (1.74 MB)\n",
      "Trainable params: 455454 (1.74 MB)\n",
      "Non-trainable params: 1224 (4.78 KB)\n",
      "_________________________________________________________________\n"
     ]
    }
   ],
   "source": [
    "model7.add(Dropout(0.2,input_shape=(784,)))\n",
    "model7.add(Dense(512, activation= 'sigmoid',kernel_regularizer=l2(l=0.005),kernel_initializer='uniform'))\n",
    "model7.add(BatchNormalization())\n",
    "model7.add(Dropout(rate=0.5))\n",
    "model7.add(Dense(100, activation = 'relu', kernel_regularizer=l2(l=0.005),kernel_initializer='uniform'))\n",
    "model7.add(BatchNormalization())\n",
    "model7.add(Dropout(rate=0.5))\n",
    "model7.add(Dense(n_classes, activation = 'softmax'))\n",
    "model7.compile(optimizer=\"adam\", loss = 'categorical_crossentropy', metrics = ['accuracy'])\n",
    "model7.summary()"
   ]
  },
  {
   "cell_type": "code",
   "execution_count": 64,
   "metadata": {
    "colab": {
     "base_uri": "https://localhost:8080/"
    },
    "id": "eBCKKahQkanE",
    "outputId": "3963c212-d8d3-458b-b89b-9c816f6d2633"
   },
   "outputs": [
    {
     "name": "stdout",
     "output_type": "stream",
     "text": [
      "Epoch 1/100\n",
      "24/24 [==============================] - 4s 49ms/step - loss: 2.9235 - accuracy: 0.5940 - val_loss: 3.3966 - val_accuracy: 0.4840\n",
      "Epoch 2/100\n",
      "24/24 [==============================] - 1s 27ms/step - loss: 1.9231 - accuracy: 0.7913 - val_loss: 3.0809 - val_accuracy: 0.4900\n",
      "Epoch 3/100\n",
      "24/24 [==============================] - 1s 26ms/step - loss: 1.6403 - accuracy: 0.8343 - val_loss: 2.8934 - val_accuracy: 0.4900\n",
      "Epoch 4/100\n",
      "24/24 [==============================] - 1s 26ms/step - loss: 1.4780 - accuracy: 0.8580 - val_loss: 2.7304 - val_accuracy: 0.4400\n",
      "Epoch 5/100\n",
      "24/24 [==============================] - 1s 27ms/step - loss: 1.3336 - accuracy: 0.8767 - val_loss: 2.5938 - val_accuracy: 0.4200\n",
      "Epoch 6/100\n",
      "24/24 [==============================] - 1s 26ms/step - loss: 1.2253 - accuracy: 0.8820 - val_loss: 2.4389 - val_accuracy: 0.4600\n",
      "Epoch 7/100\n",
      "24/24 [==============================] - 1s 27ms/step - loss: 1.1312 - accuracy: 0.8887 - val_loss: 2.3058 - val_accuracy: 0.4900\n",
      "Epoch 8/100\n",
      "24/24 [==============================] - 1s 27ms/step - loss: 1.0536 - accuracy: 0.8967 - val_loss: 2.1777 - val_accuracy: 0.4520\n",
      "Epoch 9/100\n",
      "24/24 [==============================] - 1s 28ms/step - loss: 0.9961 - accuracy: 0.8923 - val_loss: 2.0900 - val_accuracy: 0.4360\n",
      "Epoch 10/100\n",
      "24/24 [==============================] - 1s 27ms/step - loss: 0.9318 - accuracy: 0.8907 - val_loss: 1.9199 - val_accuracy: 0.5460\n",
      "Epoch 11/100\n",
      "24/24 [==============================] - 1s 26ms/step - loss: 0.8707 - accuracy: 0.8993 - val_loss: 1.8285 - val_accuracy: 0.5160\n",
      "Epoch 12/100\n",
      "24/24 [==============================] - 1s 27ms/step - loss: 0.8331 - accuracy: 0.8960 - val_loss: 1.6869 - val_accuracy: 0.5860\n",
      "Epoch 13/100\n",
      "24/24 [==============================] - 1s 27ms/step - loss: 0.8153 - accuracy: 0.8927 - val_loss: 1.5068 - val_accuracy: 0.6980\n",
      "Epoch 14/100\n",
      "24/24 [==============================] - 1s 27ms/step - loss: 0.7447 - accuracy: 0.9110 - val_loss: 1.4113 - val_accuracy: 0.7000\n",
      "Epoch 15/100\n",
      "24/24 [==============================] - 1s 27ms/step - loss: 0.7391 - accuracy: 0.9023 - val_loss: 1.2926 - val_accuracy: 0.7780\n",
      "Epoch 16/100\n",
      "24/24 [==============================] - 1s 27ms/step - loss: 0.7266 - accuracy: 0.8997 - val_loss: 1.1491 - val_accuracy: 0.7980\n",
      "Epoch 17/100\n",
      "24/24 [==============================] - 1s 27ms/step - loss: 0.7032 - accuracy: 0.9017 - val_loss: 1.0278 - val_accuracy: 0.8760\n",
      "Epoch 18/100\n",
      "24/24 [==============================] - 1s 28ms/step - loss: 0.6594 - accuracy: 0.9093 - val_loss: 0.9468 - val_accuracy: 0.8660\n",
      "Epoch 19/100\n",
      "24/24 [==============================] - 1s 28ms/step - loss: 0.6370 - accuracy: 0.9107 - val_loss: 0.8462 - val_accuracy: 0.8960\n",
      "Epoch 20/100\n",
      "24/24 [==============================] - 1s 28ms/step - loss: 0.6366 - accuracy: 0.9060 - val_loss: 0.8060 - val_accuracy: 0.8780\n",
      "Epoch 21/100\n",
      "24/24 [==============================] - 1s 26ms/step - loss: 0.6236 - accuracy: 0.9040 - val_loss: 0.7196 - val_accuracy: 0.8920\n",
      "Epoch 22/100\n",
      "24/24 [==============================] - 1s 26ms/step - loss: 0.6106 - accuracy: 0.9097 - val_loss: 0.6801 - val_accuracy: 0.9040\n",
      "Epoch 23/100\n",
      "24/24 [==============================] - 1s 26ms/step - loss: 0.6078 - accuracy: 0.9023 - val_loss: 0.6905 - val_accuracy: 0.8880\n",
      "Epoch 24/100\n",
      "24/24 [==============================] - 1s 27ms/step - loss: 0.5875 - accuracy: 0.9073 - val_loss: 0.6123 - val_accuracy: 0.9140\n",
      "Epoch 25/100\n",
      "24/24 [==============================] - 1s 27ms/step - loss: 0.5687 - accuracy: 0.9120 - val_loss: 0.5989 - val_accuracy: 0.9020\n",
      "Epoch 26/100\n",
      "24/24 [==============================] - 1s 26ms/step - loss: 0.6040 - accuracy: 0.8967 - val_loss: 0.5849 - val_accuracy: 0.9060\n",
      "Epoch 27/100\n",
      "24/24 [==============================] - 1s 27ms/step - loss: 0.5584 - accuracy: 0.9103 - val_loss: 0.5516 - val_accuracy: 0.9240\n",
      "Epoch 28/100\n",
      "24/24 [==============================] - 1s 26ms/step - loss: 0.5681 - accuracy: 0.9080 - val_loss: 0.5689 - val_accuracy: 0.9040\n",
      "Epoch 29/100\n",
      "24/24 [==============================] - 1s 27ms/step - loss: 0.5490 - accuracy: 0.9133 - val_loss: 0.5484 - val_accuracy: 0.9140\n",
      "Epoch 30/100\n",
      "24/24 [==============================] - 1s 27ms/step - loss: 0.5424 - accuracy: 0.9157 - val_loss: 0.5216 - val_accuracy: 0.9220\n",
      "Epoch 31/100\n",
      "24/24 [==============================] - 1s 26ms/step - loss: 0.5325 - accuracy: 0.9153 - val_loss: 0.5370 - val_accuracy: 0.9120\n",
      "Epoch 32/100\n",
      "24/24 [==============================] - 1s 27ms/step - loss: 0.5261 - accuracy: 0.9157 - val_loss: 0.5077 - val_accuracy: 0.9240\n",
      "Epoch 33/100\n",
      "24/24 [==============================] - 1s 27ms/step - loss: 0.5288 - accuracy: 0.9097 - val_loss: 0.5278 - val_accuracy: 0.9180\n",
      "Epoch 34/100\n",
      "24/24 [==============================] - 1s 26ms/step - loss: 0.5312 - accuracy: 0.9117 - val_loss: 0.5188 - val_accuracy: 0.9280\n",
      "Epoch 35/100\n",
      "24/24 [==============================] - 1s 27ms/step - loss: 0.5147 - accuracy: 0.9187 - val_loss: 0.4951 - val_accuracy: 0.9240\n",
      "Epoch 36/100\n",
      "24/24 [==============================] - 1s 28ms/step - loss: 0.5148 - accuracy: 0.9143 - val_loss: 0.4929 - val_accuracy: 0.9220\n",
      "Epoch 37/100\n",
      "24/24 [==============================] - 1s 28ms/step - loss: 0.5051 - accuracy: 0.9167 - val_loss: 0.5126 - val_accuracy: 0.9160\n",
      "Epoch 38/100\n",
      "24/24 [==============================] - 1s 28ms/step - loss: 0.4932 - accuracy: 0.9183 - val_loss: 0.4931 - val_accuracy: 0.9200\n",
      "Epoch 39/100\n",
      "24/24 [==============================] - 1s 28ms/step - loss: 0.4873 - accuracy: 0.9197 - val_loss: 0.4823 - val_accuracy: 0.9260\n",
      "Epoch 40/100\n",
      "24/24 [==============================] - 1s 27ms/step - loss: 0.4992 - accuracy: 0.9113 - val_loss: 0.4894 - val_accuracy: 0.9320\n",
      "Epoch 41/100\n",
      "24/24 [==============================] - 1s 28ms/step - loss: 0.5051 - accuracy: 0.9097 - val_loss: 0.5201 - val_accuracy: 0.9220\n",
      "Epoch 42/100\n",
      "24/24 [==============================] - 1s 27ms/step - loss: 0.5040 - accuracy: 0.9147 - val_loss: 0.4752 - val_accuracy: 0.9160\n",
      "Epoch 43/100\n",
      "24/24 [==============================] - 1s 27ms/step - loss: 0.5103 - accuracy: 0.9127 - val_loss: 0.5115 - val_accuracy: 0.9240\n",
      "Epoch 44/100\n",
      "24/24 [==============================] - 1s 29ms/step - loss: 0.5170 - accuracy: 0.9120 - val_loss: 0.4857 - val_accuracy: 0.9220\n",
      "Epoch 45/100\n",
      "24/24 [==============================] - 1s 27ms/step - loss: 0.4851 - accuracy: 0.9253 - val_loss: 0.4852 - val_accuracy: 0.9180\n",
      "Epoch 46/100\n",
      "24/24 [==============================] - 1s 27ms/step - loss: 0.4937 - accuracy: 0.9167 - val_loss: 0.4869 - val_accuracy: 0.9160\n",
      "Epoch 47/100\n",
      "24/24 [==============================] - 1s 25ms/step - loss: 0.4961 - accuracy: 0.9157 - val_loss: 0.5154 - val_accuracy: 0.9120\n",
      "Epoch 48/100\n",
      "24/24 [==============================] - 1s 26ms/step - loss: 0.4874 - accuracy: 0.9213 - val_loss: 0.5020 - val_accuracy: 0.9220\n",
      "Epoch 49/100\n",
      "24/24 [==============================] - 1s 26ms/step - loss: 0.5107 - accuracy: 0.9153 - val_loss: 0.4947 - val_accuracy: 0.9360\n",
      "Epoch 50/100\n",
      "24/24 [==============================] - 1s 26ms/step - loss: 0.4912 - accuracy: 0.9213 - val_loss: 0.5000 - val_accuracy: 0.9260\n",
      "Epoch 51/100\n",
      "24/24 [==============================] - 1s 27ms/step - loss: 0.5023 - accuracy: 0.9177 - val_loss: 0.5190 - val_accuracy: 0.9260\n",
      "Epoch 52/100\n",
      "24/24 [==============================] - 1s 27ms/step - loss: 0.5031 - accuracy: 0.9110 - val_loss: 0.4874 - val_accuracy: 0.9340\n",
      "Epoch 53/100\n",
      "24/24 [==============================] - 1s 26ms/step - loss: 0.4887 - accuracy: 0.9237 - val_loss: 0.4978 - val_accuracy: 0.9180\n",
      "Epoch 54/100\n",
      "24/24 [==============================] - 1s 27ms/step - loss: 0.5059 - accuracy: 0.9157 - val_loss: 0.4974 - val_accuracy: 0.9120\n",
      "Epoch 55/100\n",
      "24/24 [==============================] - 1s 28ms/step - loss: 0.4778 - accuracy: 0.9213 - val_loss: 0.4949 - val_accuracy: 0.9160\n",
      "Epoch 56/100\n",
      "24/24 [==============================] - 1s 27ms/step - loss: 0.5100 - accuracy: 0.9110 - val_loss: 0.5047 - val_accuracy: 0.9180\n",
      "Epoch 57/100\n",
      "24/24 [==============================] - 1s 26ms/step - loss: 0.4975 - accuracy: 0.9183 - val_loss: 0.5160 - val_accuracy: 0.9280\n",
      "Epoch 58/100\n",
      "24/24 [==============================] - 1s 27ms/step - loss: 0.5236 - accuracy: 0.9130 - val_loss: 0.5197 - val_accuracy: 0.9200\n",
      "Epoch 59/100\n",
      "24/24 [==============================] - 1s 27ms/step - loss: 0.5229 - accuracy: 0.9120 - val_loss: 0.5231 - val_accuracy: 0.9200\n",
      "Epoch 60/100\n",
      "24/24 [==============================] - 1s 28ms/step - loss: 0.5207 - accuracy: 0.9133 - val_loss: 0.5034 - val_accuracy: 0.9240\n",
      "Epoch 61/100\n",
      "24/24 [==============================] - 1s 27ms/step - loss: 0.5105 - accuracy: 0.9197 - val_loss: 0.5275 - val_accuracy: 0.9080\n",
      "Epoch 62/100\n",
      "24/24 [==============================] - 1s 27ms/step - loss: 0.4955 - accuracy: 0.9203 - val_loss: 0.5139 - val_accuracy: 0.9200\n",
      "Epoch 63/100\n",
      "24/24 [==============================] - 1s 26ms/step - loss: 0.5007 - accuracy: 0.9180 - val_loss: 0.5443 - val_accuracy: 0.9040\n",
      "Epoch 64/100\n",
      "24/24 [==============================] - 1s 26ms/step - loss: 0.4921 - accuracy: 0.9220 - val_loss: 0.5265 - val_accuracy: 0.9080\n",
      "Epoch 65/100\n",
      "24/24 [==============================] - 1s 27ms/step - loss: 0.5114 - accuracy: 0.9107 - val_loss: 0.5007 - val_accuracy: 0.9220\n",
      "Epoch 66/100\n",
      "24/24 [==============================] - 1s 27ms/step - loss: 0.5013 - accuracy: 0.9170 - val_loss: 0.4709 - val_accuracy: 0.9380\n",
      "Epoch 67/100\n",
      "24/24 [==============================] - 1s 26ms/step - loss: 0.5017 - accuracy: 0.9150 - val_loss: 0.4951 - val_accuracy: 0.9220\n",
      "Epoch 68/100\n",
      "24/24 [==============================] - 1s 27ms/step - loss: 0.4922 - accuracy: 0.9280 - val_loss: 0.5010 - val_accuracy: 0.9140\n",
      "Epoch 69/100\n",
      "24/24 [==============================] - 1s 26ms/step - loss: 0.4893 - accuracy: 0.9197 - val_loss: 0.4863 - val_accuracy: 0.9300\n",
      "Epoch 70/100\n",
      "24/24 [==============================] - 1s 27ms/step - loss: 0.4900 - accuracy: 0.9220 - val_loss: 0.4746 - val_accuracy: 0.9360\n",
      "Epoch 71/100\n",
      "24/24 [==============================] - 1s 28ms/step - loss: 0.4947 - accuracy: 0.9193 - val_loss: 0.5028 - val_accuracy: 0.9280\n",
      "Epoch 72/100\n",
      "24/24 [==============================] - 1s 28ms/step - loss: 0.5032 - accuracy: 0.9220 - val_loss: 0.5044 - val_accuracy: 0.9240\n",
      "Epoch 73/100\n",
      "24/24 [==============================] - 1s 28ms/step - loss: 0.4958 - accuracy: 0.9250 - val_loss: 0.4861 - val_accuracy: 0.9320\n",
      "Epoch 74/100\n",
      "24/24 [==============================] - 1s 28ms/step - loss: 0.5081 - accuracy: 0.9127 - val_loss: 0.5067 - val_accuracy: 0.9160\n",
      "Epoch 75/100\n",
      "24/24 [==============================] - 1s 26ms/step - loss: 0.5012 - accuracy: 0.9160 - val_loss: 0.5006 - val_accuracy: 0.9300\n",
      "Epoch 76/100\n",
      "24/24 [==============================] - 1s 27ms/step - loss: 0.5090 - accuracy: 0.9137 - val_loss: 0.4901 - val_accuracy: 0.9240\n",
      "Epoch 77/100\n",
      "24/24 [==============================] - 1s 26ms/step - loss: 0.4908 - accuracy: 0.9247 - val_loss: 0.5160 - val_accuracy: 0.9160\n",
      "Epoch 78/100\n",
      "24/24 [==============================] - 1s 27ms/step - loss: 0.4976 - accuracy: 0.9233 - val_loss: 0.5197 - val_accuracy: 0.9100\n",
      "Epoch 79/100\n",
      "24/24 [==============================] - 1s 27ms/step - loss: 0.4832 - accuracy: 0.9263 - val_loss: 0.4882 - val_accuracy: 0.9300\n",
      "Epoch 80/100\n",
      "24/24 [==============================] - 1s 26ms/step - loss: 0.4990 - accuracy: 0.9203 - val_loss: 0.5050 - val_accuracy: 0.9280\n",
      "Epoch 81/100\n",
      "24/24 [==============================] - 1s 27ms/step - loss: 0.4944 - accuracy: 0.9247 - val_loss: 0.5041 - val_accuracy: 0.9200\n",
      "Epoch 82/100\n",
      "24/24 [==============================] - 1s 27ms/step - loss: 0.4961 - accuracy: 0.9197 - val_loss: 0.4820 - val_accuracy: 0.9220\n",
      "Epoch 83/100\n",
      "24/24 [==============================] - 1s 27ms/step - loss: 0.5200 - accuracy: 0.9153 - val_loss: 0.5083 - val_accuracy: 0.9300\n",
      "Epoch 84/100\n",
      "24/24 [==============================] - 1s 28ms/step - loss: 0.5075 - accuracy: 0.9257 - val_loss: 0.4913 - val_accuracy: 0.9280\n",
      "Epoch 85/100\n",
      "24/24 [==============================] - 1s 26ms/step - loss: 0.4959 - accuracy: 0.9177 - val_loss: 0.4954 - val_accuracy: 0.9220\n",
      "Epoch 86/100\n",
      "24/24 [==============================] - 1s 28ms/step - loss: 0.5016 - accuracy: 0.9200 - val_loss: 0.5023 - val_accuracy: 0.9240\n",
      "Epoch 87/100\n",
      "24/24 [==============================] - 1s 26ms/step - loss: 0.4988 - accuracy: 0.9223 - val_loss: 0.5018 - val_accuracy: 0.9240\n",
      "Epoch 88/100\n",
      "24/24 [==============================] - 1s 27ms/step - loss: 0.4897 - accuracy: 0.9273 - val_loss: 0.5043 - val_accuracy: 0.9280\n",
      "Epoch 89/100\n",
      "24/24 [==============================] - 1s 27ms/step - loss: 0.5108 - accuracy: 0.9200 - val_loss: 0.5276 - val_accuracy: 0.9040\n",
      "Epoch 90/100\n",
      "24/24 [==============================] - 1s 27ms/step - loss: 0.5132 - accuracy: 0.9130 - val_loss: 0.5006 - val_accuracy: 0.9200\n",
      "Epoch 91/100\n",
      "24/24 [==============================] - 1s 27ms/step - loss: 0.4910 - accuracy: 0.9240 - val_loss: 0.5150 - val_accuracy: 0.9160\n",
      "Epoch 92/100\n",
      "24/24 [==============================] - 1s 27ms/step - loss: 0.4821 - accuracy: 0.9230 - val_loss: 0.4758 - val_accuracy: 0.9220\n",
      "Epoch 93/100\n",
      "24/24 [==============================] - 1s 27ms/step - loss: 0.4866 - accuracy: 0.9297 - val_loss: 0.4949 - val_accuracy: 0.9240\n",
      "Epoch 94/100\n",
      "24/24 [==============================] - 1s 27ms/step - loss: 0.5137 - accuracy: 0.9167 - val_loss: 0.5225 - val_accuracy: 0.9200\n",
      "Epoch 95/100\n",
      "24/24 [==============================] - 1s 27ms/step - loss: 0.5024 - accuracy: 0.9177 - val_loss: 0.5238 - val_accuracy: 0.9080\n",
      "Epoch 96/100\n",
      "24/24 [==============================] - 1s 27ms/step - loss: 0.4951 - accuracy: 0.9243 - val_loss: 0.4926 - val_accuracy: 0.9200\n",
      "Epoch 97/100\n",
      "24/24 [==============================] - 1s 27ms/step - loss: 0.4982 - accuracy: 0.9207 - val_loss: 0.5284 - val_accuracy: 0.9140\n",
      "Epoch 98/100\n",
      "24/24 [==============================] - 1s 28ms/step - loss: 0.5000 - accuracy: 0.9210 - val_loss: 0.5111 - val_accuracy: 0.9260\n",
      "Epoch 99/100\n",
      "24/24 [==============================] - 1s 27ms/step - loss: 0.4805 - accuracy: 0.9270 - val_loss: 0.5306 - val_accuracy: 0.9200\n",
      "Epoch 100/100\n",
      "24/24 [==============================] - 1s 28ms/step - loss: 0.5040 - accuracy: 0.9170 - val_loss: 0.5291 - val_accuracy: 0.9020\n",
      "16/16 [==============================] - 0s 7ms/step - loss: 0.5291 - accuracy: 0.9020\n"
     ]
    }
   ],
   "source": [
    "history = model7.fit(x_train, y_train, batch_size=128, epochs=100, verbose=True, validation_data= (x_test, y_test)) #validation_split=.1\n",
    "loss, accuracy  = model7.evaluate(x_test, y_test, verbose=True)"
   ]
  },
  {
   "cell_type": "code",
   "execution_count": 65,
   "metadata": {
    "colab": {
     "base_uri": "https://localhost:8080/",
     "height": 297
    },
    "id": "yuPCktT4kanF",
    "outputId": "d9b52718-7746-4ab5-bd6f-17a28fdd1458"
   },
   "outputs": [
    {
     "data": {
      "image/png": "[encoded data removed]",
      "text/plain": [
       "<Figure size 432x288 with 2 Axes>"
      ]
     },
     "metadata": {
      "needs_background": "light"
     },
     "output_type": "display_data"
    }
   ],
   "source": [
    "fig = plt.figure()\n",
    "plt.subplot(2,1,1)\n",
    "plt.plot(history.history['accuracy'])\n",
    "plt.plot(history.history['val_accuracy'])\n",
    "plt.title('model accuracy')\n",
    "plt.ylabel('accuracy')\n",
    "plt.xlabel('epoch')\n",
    "plt.legend(['train', 'test'], loc='lower right')\n",
    "\n",
    "plt.subplot(2,1,2)\n",
    "plt.plot(history.history['loss'])\n",
    "plt.plot(history.history['val_loss'])\n",
    "plt.title('model loss')\n",
    "plt.ylabel('loss')\n",
    "plt.xlabel('epoch')\n",
    "plt.legend(['train', 'test'], loc='upper right')\n",
    "\n",
    "plt.tight_layout()"
   ]
  },
  {
   "cell_type": "markdown",
   "metadata": {
    "id": "7QjONHhEkanF"
   },
   "source": [
    "##  Model Evaluation"
   ]
  },
  {
   "cell_type": "code",
   "execution_count": 66,
   "metadata": {
    "colab": {
     "base_uri": "https://localhost:8080/"
    },
    "id": "tZy-nJxkkanG",
    "outputId": "5ef3957e-dd72-49e2-c0d6-a66ef0a33a21"
   },
   "outputs": [
    {
     "name": "stdout",
     "output_type": "stream",
     "text": [
      "94/94 - 1s - loss: 0.3535 - accuracy: 0.9687 - 507ms/epoch - 5ms/step\n",
      "Train Loss 0.3534620404243469\n",
      "Train Accuracy 0.968666672706604\n"
     ]
    }
   ],
   "source": [
    "loss_and_metrics = model7.evaluate(x_train, y_train, verbose=2)\n",
    "\n",
    "print(\"Train Loss\", loss_and_metrics[0])\n",
    "print(\"Train Accuracy\", loss_and_metrics[1])"
   ]
  },
  {
   "cell_type": "code",
   "execution_count": 67,
   "metadata": {
    "colab": {
     "base_uri": "https://localhost:8080/"
    },
    "id": "z7gd3Hw6kanH",
    "outputId": "13f24e54-d226-4b71-d608-c715f2bf30ec"
   },
   "outputs": [
    {
     "name": "stdout",
     "output_type": "stream",
     "text": [
      "16/16 - 0s - loss: 0.5291 - accuracy: 0.9020 - 139ms/epoch - 9ms/step\n",
      "Test Loss 0.5290869474411011\n",
      "Test Accuracy 0.9020000100135803\n"
     ]
    }
   ],
   "source": [
    "loss_and_metrics = model7.evaluate(x_test, y_test, verbose=2)\n",
    "\n",
    "print(\"Test Loss\", loss_and_metrics[0])\n",
    "print(\"Test Accuracy\", loss_and_metrics[1])"
   ]
  }
 ],
 "metadata": {
  "colab": {
   "collapsed_sections": [
    "ez_K_Lvtkamu",
    "TmLecpwNkam9",
    "7QjONHhEkanF"
   ],
   "name": "DL_MNIST_Master_copy.ipynb",
   "provenance": []
  },
  "kernelspec": {
   "display_name": "Python 3 (ipykernel)",
   "language": "python",
   "name": "python3"
  },
  "language_info": {
   "codemirror_mode": {
    "name": "ipython",
    "version": 3
   },
   "file_extension": ".py",
   "mimetype": "text/x-python",
   "name": "python",
   "nbconvert_exporter": "python",
   "pygments_lexer": "ipython3",
   "version": "3.9.12"
  }
 },
 "nbformat": 4,
 "nbformat_minor": 1
}
